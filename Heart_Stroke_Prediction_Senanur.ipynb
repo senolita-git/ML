{
 "cells": [
  {
   "cell_type": "markdown",
   "id": "KI0TtW1tvm_r",
   "metadata": {
    "id": "KI0TtW1tvm_r"
   },
   "source": [
    "___\n",
    "\n",
    "<p style=\"text-align: center;\"><img src=\"https://docs.google.com/uc?id=1lY0Uj5R04yMY3-ZppPWxqCr5pvBLYPnV\" class=\"img-fluid\" alt=\"CLRSWY\"></p>\n",
    "\n",
    "___"
   ]
  },
  {
   "cell_type": "markdown",
   "id": "392a02f0-fdda-44ae-a0fc-97f3b03924a9",
   "metadata": {
    "id": "392a02f0-fdda-44ae-a0fc-97f3b03924a9"
   },
   "source": [
    "Data vocabulary:\n",
    "\n",
    "1. #3 (age): age in years \n",
    "2. #4 (sex): sex (1 = male; 0 = female) \n",
    "3. #9 (cp): cp: chest pain type | Value 0: typical angina | Value 1: atypical angina | Value 2: non-anginal pain | Value 3: asymptomatic \n",
    "4. #10 (trestbps): resting blood pressure (in mm Hg on admission to the hospital) \n",
    "5. #12 (chol): serum cholestoral in mg/dl \n",
    "6. #16 (fbs): (fasting blood sugar > 120 mg/dl) (1 = true; 0 = false) \n",
    "7. #19 (restecg): resting electrocardiographic results | Value 0: normal | Value 1: having ST-T wave abnormality (T wave inversions and/or ST elevation or depression of > 0.05 mV) | Value 2: showing probable or definite left ventricular hypertrophy by Estes' criteria \n",
    "8. #32 (thalach): maximum heart rate achieved \n",
    "9. #38 (exang): exercise induced angina (1 = yes; 0 = no) \n",
    "10. #40 (oldpeak): ST depression induced by exercise relative to rest \n",
    "11. #41 (slope): the slope of the peak exercise ST segment | Value 1: upsloping | Value 2: flat | Value 3: downsloping \n",
    "12. #44 (ca): number of major vessels (0-3) colored by flourosopy \n",
    "13. #51 (thal): 3 = normal; 6 = fixed defect; 7 = reversable defect \n",
    "14. #58 (num) (the predicted attribute): Value 0: < 50% diameter narrowing | Value 1: > 50% diameter narrowing "
   ]
  },
  {
   "cell_type": "markdown",
   "id": "2kuJJ54iwAlk",
   "metadata": {
    "id": "2kuJJ54iwAlk"
   },
   "source": [
    "# Import esential Libraries"
   ]
  },
  {
   "cell_type": "code",
   "execution_count": 1,
   "id": "d2f67c2a-c903-4b6c-bcda-2d69e2619192",
   "metadata": {
    "id": "d2f67c2a-c903-4b6c-bcda-2d69e2619192"
   },
   "outputs": [],
   "source": [
    "import numpy as np\n",
    "import pandas as pd\n",
    "import matplotlib.pyplot as plt\n",
    "import seaborn as sns\n",
    "from scipy import stats\n",
    "pd.set_option('display.max_columns', 100)\n",
    "plt.rcParams[\"figure.figsize\"] = (10,6)\n",
    "\n",
    "import plotly\n",
    "import cufflinks as cf\n",
    "from plotly.offline import download_plotlyjs, init_notebook_mode, plot, iplot\n"
   ]
  },
  {
   "cell_type": "markdown",
   "id": "6Qn_DjhPwKRF",
   "metadata": {
    "id": "6Qn_DjhPwKRF"
   },
   "source": [
    "# Ingest the data to notebook"
   ]
  },
  {
   "cell_type": "code",
   "execution_count": 2,
   "id": "542d4531-d67c-4a30-a836-dc31795ff0e8",
   "metadata": {
    "id": "542d4531-d67c-4a30-a836-dc31795ff0e8"
   },
   "outputs": [
    {
     "data": {
      "text/html": [
       "<div>\n",
       "<style scoped>\n",
       "    .dataframe tbody tr th:only-of-type {\n",
       "        vertical-align: middle;\n",
       "    }\n",
       "\n",
       "    .dataframe tbody tr th {\n",
       "        vertical-align: top;\n",
       "    }\n",
       "\n",
       "    .dataframe thead th {\n",
       "        text-align: right;\n",
       "    }\n",
       "</style>\n",
       "<table border=\"1\" class=\"dataframe\">\n",
       "  <thead>\n",
       "    <tr style=\"text-align: right;\">\n",
       "      <th></th>\n",
       "      <th>age</th>\n",
       "      <th>sex</th>\n",
       "      <th>cp</th>\n",
       "      <th>trestbps</th>\n",
       "      <th>chol</th>\n",
       "      <th>fbs</th>\n",
       "      <th>restecg</th>\n",
       "      <th>thalach</th>\n",
       "      <th>exang</th>\n",
       "      <th>oldpeak</th>\n",
       "      <th>slope</th>\n",
       "      <th>ca</th>\n",
       "      <th>thal</th>\n",
       "      <th>target</th>\n",
       "    </tr>\n",
       "  </thead>\n",
       "  <tbody>\n",
       "    <tr>\n",
       "      <th>0</th>\n",
       "      <td>63</td>\n",
       "      <td>1</td>\n",
       "      <td>3</td>\n",
       "      <td>145</td>\n",
       "      <td>233</td>\n",
       "      <td>1</td>\n",
       "      <td>0</td>\n",
       "      <td>150</td>\n",
       "      <td>0</td>\n",
       "      <td>2.3</td>\n",
       "      <td>0</td>\n",
       "      <td>0</td>\n",
       "      <td>1</td>\n",
       "      <td>1</td>\n",
       "    </tr>\n",
       "    <tr>\n",
       "      <th>1</th>\n",
       "      <td>37</td>\n",
       "      <td>1</td>\n",
       "      <td>2</td>\n",
       "      <td>130</td>\n",
       "      <td>250</td>\n",
       "      <td>0</td>\n",
       "      <td>1</td>\n",
       "      <td>187</td>\n",
       "      <td>0</td>\n",
       "      <td>3.5</td>\n",
       "      <td>0</td>\n",
       "      <td>0</td>\n",
       "      <td>2</td>\n",
       "      <td>1</td>\n",
       "    </tr>\n",
       "    <tr>\n",
       "      <th>2</th>\n",
       "      <td>41</td>\n",
       "      <td>0</td>\n",
       "      <td>1</td>\n",
       "      <td>130</td>\n",
       "      <td>204</td>\n",
       "      <td>0</td>\n",
       "      <td>0</td>\n",
       "      <td>172</td>\n",
       "      <td>0</td>\n",
       "      <td>1.4</td>\n",
       "      <td>2</td>\n",
       "      <td>0</td>\n",
       "      <td>2</td>\n",
       "      <td>1</td>\n",
       "    </tr>\n",
       "    <tr>\n",
       "      <th>3</th>\n",
       "      <td>56</td>\n",
       "      <td>1</td>\n",
       "      <td>1</td>\n",
       "      <td>120</td>\n",
       "      <td>236</td>\n",
       "      <td>0</td>\n",
       "      <td>1</td>\n",
       "      <td>178</td>\n",
       "      <td>0</td>\n",
       "      <td>0.8</td>\n",
       "      <td>2</td>\n",
       "      <td>0</td>\n",
       "      <td>2</td>\n",
       "      <td>1</td>\n",
       "    </tr>\n",
       "    <tr>\n",
       "      <th>4</th>\n",
       "      <td>57</td>\n",
       "      <td>0</td>\n",
       "      <td>0</td>\n",
       "      <td>120</td>\n",
       "      <td>354</td>\n",
       "      <td>0</td>\n",
       "      <td>1</td>\n",
       "      <td>163</td>\n",
       "      <td>1</td>\n",
       "      <td>0.6</td>\n",
       "      <td>2</td>\n",
       "      <td>0</td>\n",
       "      <td>2</td>\n",
       "      <td>1</td>\n",
       "    </tr>\n",
       "  </tbody>\n",
       "</table>\n",
       "</div>"
      ],
      "text/plain": [
       "   age  sex  cp  trestbps  chol  fbs  restecg  thalach  exang  oldpeak  slope  \\\n",
       "0   63    1   3       145   233    1        0      150      0      2.3      0   \n",
       "1   37    1   2       130   250    0        1      187      0      3.5      0   \n",
       "2   41    0   1       130   204    0        0      172      0      1.4      2   \n",
       "3   56    1   1       120   236    0        1      178      0      0.8      2   \n",
       "4   57    0   0       120   354    0        1      163      1      0.6      2   \n",
       "\n",
       "   ca  thal  target  \n",
       "0   0     1       1  \n",
       "1   0     2       1  \n",
       "2   0     2       1  \n",
       "3   0     2       1  \n",
       "4   0     2       1  "
      ]
     },
     "execution_count": 2,
     "metadata": {},
     "output_type": "execute_result"
    }
   ],
   "source": [
    "df = pd.read_csv('heart.csv')\n",
    "df.head()"
   ]
  },
  {
   "cell_type": "markdown",
   "id": "v64txbyYwhzL",
   "metadata": {
    "id": "v64txbyYwhzL"
   },
   "source": [
    "# EDA"
   ]
  },
  {
   "cell_type": "code",
   "execution_count": 3,
   "id": "17f3e38c",
   "metadata": {},
   "outputs": [
    {
     "data": {
      "text/plain": [
       "(303, 14)"
      ]
     },
     "execution_count": 3,
     "metadata": {},
     "output_type": "execute_result"
    }
   ],
   "source": [
    "df.shape"
   ]
  },
  {
   "cell_type": "code",
   "execution_count": 4,
   "id": "bc7eca15-a6ca-4959-a43b-d20e37bcefb3",
   "metadata": {
    "id": "bc7eca15-a6ca-4959-a43b-d20e37bcefb3",
    "scrolled": false
   },
   "outputs": [
    {
     "name": "stdout",
     "output_type": "stream",
     "text": [
      "<class 'pandas.core.frame.DataFrame'>\n",
      "RangeIndex: 303 entries, 0 to 302\n",
      "Data columns (total 14 columns):\n",
      " #   Column    Non-Null Count  Dtype  \n",
      "---  ------    --------------  -----  \n",
      " 0   age       303 non-null    int64  \n",
      " 1   sex       303 non-null    int64  \n",
      " 2   cp        303 non-null    int64  \n",
      " 3   trestbps  303 non-null    int64  \n",
      " 4   chol      303 non-null    int64  \n",
      " 5   fbs       303 non-null    int64  \n",
      " 6   restecg   303 non-null    int64  \n",
      " 7   thalach   303 non-null    int64  \n",
      " 8   exang     303 non-null    int64  \n",
      " 9   oldpeak   303 non-null    float64\n",
      " 10  slope     303 non-null    int64  \n",
      " 11  ca        303 non-null    int64  \n",
      " 12  thal      303 non-null    int64  \n",
      " 13  target    303 non-null    int64  \n",
      "dtypes: float64(1), int64(13)\n",
      "memory usage: 33.3 KB\n"
     ]
    }
   ],
   "source": [
    "df.info()"
   ]
  },
  {
   "cell_type": "code",
   "execution_count": 5,
   "id": "d0dfa79a",
   "metadata": {},
   "outputs": [
    {
     "data": {
      "text/html": [
       "<div>\n",
       "<style scoped>\n",
       "    .dataframe tbody tr th:only-of-type {\n",
       "        vertical-align: middle;\n",
       "    }\n",
       "\n",
       "    .dataframe tbody tr th {\n",
       "        vertical-align: top;\n",
       "    }\n",
       "\n",
       "    .dataframe thead th {\n",
       "        text-align: right;\n",
       "    }\n",
       "</style>\n",
       "<table border=\"1\" class=\"dataframe\">\n",
       "  <thead>\n",
       "    <tr style=\"text-align: right;\">\n",
       "      <th></th>\n",
       "      <th>count</th>\n",
       "      <th>mean</th>\n",
       "      <th>std</th>\n",
       "      <th>min</th>\n",
       "      <th>25%</th>\n",
       "      <th>50%</th>\n",
       "      <th>75%</th>\n",
       "      <th>max</th>\n",
       "    </tr>\n",
       "  </thead>\n",
       "  <tbody>\n",
       "    <tr>\n",
       "      <th>age</th>\n",
       "      <td>303.0</td>\n",
       "      <td>54.366337</td>\n",
       "      <td>9.082101</td>\n",
       "      <td>29.0</td>\n",
       "      <td>47.5</td>\n",
       "      <td>55.0</td>\n",
       "      <td>61.0</td>\n",
       "      <td>77.0</td>\n",
       "    </tr>\n",
       "    <tr>\n",
       "      <th>sex</th>\n",
       "      <td>303.0</td>\n",
       "      <td>0.683168</td>\n",
       "      <td>0.466011</td>\n",
       "      <td>0.0</td>\n",
       "      <td>0.0</td>\n",
       "      <td>1.0</td>\n",
       "      <td>1.0</td>\n",
       "      <td>1.0</td>\n",
       "    </tr>\n",
       "    <tr>\n",
       "      <th>cp</th>\n",
       "      <td>303.0</td>\n",
       "      <td>0.966997</td>\n",
       "      <td>1.032052</td>\n",
       "      <td>0.0</td>\n",
       "      <td>0.0</td>\n",
       "      <td>1.0</td>\n",
       "      <td>2.0</td>\n",
       "      <td>3.0</td>\n",
       "    </tr>\n",
       "    <tr>\n",
       "      <th>trestbps</th>\n",
       "      <td>303.0</td>\n",
       "      <td>131.623762</td>\n",
       "      <td>17.538143</td>\n",
       "      <td>94.0</td>\n",
       "      <td>120.0</td>\n",
       "      <td>130.0</td>\n",
       "      <td>140.0</td>\n",
       "      <td>200.0</td>\n",
       "    </tr>\n",
       "    <tr>\n",
       "      <th>chol</th>\n",
       "      <td>303.0</td>\n",
       "      <td>246.264026</td>\n",
       "      <td>51.830751</td>\n",
       "      <td>126.0</td>\n",
       "      <td>211.0</td>\n",
       "      <td>240.0</td>\n",
       "      <td>274.5</td>\n",
       "      <td>564.0</td>\n",
       "    </tr>\n",
       "    <tr>\n",
       "      <th>fbs</th>\n",
       "      <td>303.0</td>\n",
       "      <td>0.148515</td>\n",
       "      <td>0.356198</td>\n",
       "      <td>0.0</td>\n",
       "      <td>0.0</td>\n",
       "      <td>0.0</td>\n",
       "      <td>0.0</td>\n",
       "      <td>1.0</td>\n",
       "    </tr>\n",
       "    <tr>\n",
       "      <th>restecg</th>\n",
       "      <td>303.0</td>\n",
       "      <td>0.528053</td>\n",
       "      <td>0.525860</td>\n",
       "      <td>0.0</td>\n",
       "      <td>0.0</td>\n",
       "      <td>1.0</td>\n",
       "      <td>1.0</td>\n",
       "      <td>2.0</td>\n",
       "    </tr>\n",
       "    <tr>\n",
       "      <th>thalach</th>\n",
       "      <td>303.0</td>\n",
       "      <td>149.646865</td>\n",
       "      <td>22.905161</td>\n",
       "      <td>71.0</td>\n",
       "      <td>133.5</td>\n",
       "      <td>153.0</td>\n",
       "      <td>166.0</td>\n",
       "      <td>202.0</td>\n",
       "    </tr>\n",
       "    <tr>\n",
       "      <th>exang</th>\n",
       "      <td>303.0</td>\n",
       "      <td>0.326733</td>\n",
       "      <td>0.469794</td>\n",
       "      <td>0.0</td>\n",
       "      <td>0.0</td>\n",
       "      <td>0.0</td>\n",
       "      <td>1.0</td>\n",
       "      <td>1.0</td>\n",
       "    </tr>\n",
       "    <tr>\n",
       "      <th>oldpeak</th>\n",
       "      <td>303.0</td>\n",
       "      <td>1.039604</td>\n",
       "      <td>1.161075</td>\n",
       "      <td>0.0</td>\n",
       "      <td>0.0</td>\n",
       "      <td>0.8</td>\n",
       "      <td>1.6</td>\n",
       "      <td>6.2</td>\n",
       "    </tr>\n",
       "    <tr>\n",
       "      <th>slope</th>\n",
       "      <td>303.0</td>\n",
       "      <td>1.399340</td>\n",
       "      <td>0.616226</td>\n",
       "      <td>0.0</td>\n",
       "      <td>1.0</td>\n",
       "      <td>1.0</td>\n",
       "      <td>2.0</td>\n",
       "      <td>2.0</td>\n",
       "    </tr>\n",
       "    <tr>\n",
       "      <th>ca</th>\n",
       "      <td>303.0</td>\n",
       "      <td>0.729373</td>\n",
       "      <td>1.022606</td>\n",
       "      <td>0.0</td>\n",
       "      <td>0.0</td>\n",
       "      <td>0.0</td>\n",
       "      <td>1.0</td>\n",
       "      <td>4.0</td>\n",
       "    </tr>\n",
       "    <tr>\n",
       "      <th>thal</th>\n",
       "      <td>303.0</td>\n",
       "      <td>2.313531</td>\n",
       "      <td>0.612277</td>\n",
       "      <td>0.0</td>\n",
       "      <td>2.0</td>\n",
       "      <td>2.0</td>\n",
       "      <td>3.0</td>\n",
       "      <td>3.0</td>\n",
       "    </tr>\n",
       "    <tr>\n",
       "      <th>target</th>\n",
       "      <td>303.0</td>\n",
       "      <td>0.544554</td>\n",
       "      <td>0.498835</td>\n",
       "      <td>0.0</td>\n",
       "      <td>0.0</td>\n",
       "      <td>1.0</td>\n",
       "      <td>1.0</td>\n",
       "      <td>1.0</td>\n",
       "    </tr>\n",
       "  </tbody>\n",
       "</table>\n",
       "</div>"
      ],
      "text/plain": [
       "          count        mean        std    min    25%    50%    75%    max\n",
       "age       303.0   54.366337   9.082101   29.0   47.5   55.0   61.0   77.0\n",
       "sex       303.0    0.683168   0.466011    0.0    0.0    1.0    1.0    1.0\n",
       "cp        303.0    0.966997   1.032052    0.0    0.0    1.0    2.0    3.0\n",
       "trestbps  303.0  131.623762  17.538143   94.0  120.0  130.0  140.0  200.0\n",
       "chol      303.0  246.264026  51.830751  126.0  211.0  240.0  274.5  564.0\n",
       "fbs       303.0    0.148515   0.356198    0.0    0.0    0.0    0.0    1.0\n",
       "restecg   303.0    0.528053   0.525860    0.0    0.0    1.0    1.0    2.0\n",
       "thalach   303.0  149.646865  22.905161   71.0  133.5  153.0  166.0  202.0\n",
       "exang     303.0    0.326733   0.469794    0.0    0.0    0.0    1.0    1.0\n",
       "oldpeak   303.0    1.039604   1.161075    0.0    0.0    0.8    1.6    6.2\n",
       "slope     303.0    1.399340   0.616226    0.0    1.0    1.0    2.0    2.0\n",
       "ca        303.0    0.729373   1.022606    0.0    0.0    0.0    1.0    4.0\n",
       "thal      303.0    2.313531   0.612277    0.0    2.0    2.0    3.0    3.0\n",
       "target    303.0    0.544554   0.498835    0.0    0.0    1.0    1.0    1.0"
      ]
     },
     "execution_count": 5,
     "metadata": {},
     "output_type": "execute_result"
    }
   ],
   "source": [
    "df.describe().T"
   ]
  },
  {
   "cell_type": "code",
   "execution_count": 6,
   "id": "20b689ac",
   "metadata": {},
   "outputs": [
    {
     "data": {
      "text/plain": [
       "1    165\n",
       "0    138\n",
       "Name: target, dtype: int64"
      ]
     },
     "execution_count": 6,
     "metadata": {},
     "output_type": "execute_result"
    }
   ],
   "source": [
    "df.target.value_counts() #balanced data?"
   ]
  },
  {
   "cell_type": "markdown",
   "id": "37bf63a3",
   "metadata": {},
   "source": [
    "thal: A blood disorder called thalassemia Value 0: NULL (dropped from the dataset previously\n",
    "Value 1: fixed defect (no blood flow in some part of the heart)\n",
    "Value 2: normal blood flow\n",
    "Value 3: reversible defect (a blood flow is observed but it is not normal)"
   ]
  },
  {
   "cell_type": "code",
   "execution_count": 7,
   "id": "bf57e737",
   "metadata": {},
   "outputs": [
    {
     "data": {
      "text/plain": [
       "2    166\n",
       "3    117\n",
       "1     18\n",
       "0      2\n",
       "Name: thal, dtype: int64"
      ]
     },
     "execution_count": 7,
     "metadata": {},
     "output_type": "execute_result"
    }
   ],
   "source": [
    "df.thal.value_counts()"
   ]
  },
  {
   "cell_type": "code",
   "execution_count": 8,
   "id": "89030216",
   "metadata": {
    "scrolled": false
   },
   "outputs": [
    {
     "data": {
      "image/png": "[encoded data removed]",
      "text/plain": [
       "<Figure size 720x432 with 1 Axes>"
      ]
     },
     "metadata": {
      "needs_background": "light"
     },
     "output_type": "display_data"
    }
   ],
   "source": [
    "sns.boxplot(x=\"target\",y=\"chol\", data=df );"
   ]
  },
  {
   "cell_type": "code",
   "execution_count": 9,
   "id": "af9a30c5",
   "metadata": {},
   "outputs": [],
   "source": [
    "df = df[df.chol != 564]"
   ]
  },
  {
   "cell_type": "code",
   "execution_count": 10,
   "id": "5e5a5eb2",
   "metadata": {},
   "outputs": [],
   "source": [
    "df = df[df.ca != 4]"
   ]
  },
  {
   "cell_type": "code",
   "execution_count": 11,
   "id": "ace2b44a",
   "metadata": {},
   "outputs": [
    {
     "data": {
      "text/plain": [
       "(297, 14)"
      ]
     },
     "execution_count": 11,
     "metadata": {},
     "output_type": "execute_result"
    }
   ],
   "source": [
    "df.shape"
   ]
  },
  {
   "cell_type": "code",
   "execution_count": 12,
   "id": "33ac1065",
   "metadata": {},
   "outputs": [
    {
     "data": {
      "image/png": "[encoded data removed]",
      "text/plain": [
       "<Figure size 720x432 with 1 Axes>"
      ]
     },
     "metadata": {
      "needs_background": "light"
     },
     "output_type": "display_data"
    }
   ],
   "source": [
    "sns.boxplot(x=\"target\",y=\"oldpeak\", data=df );"
   ]
  },
  {
   "cell_type": "code",
   "execution_count": 13,
   "id": "f1985401",
   "metadata": {},
   "outputs": [
    {
     "data": {
      "image/png": "[encoded data removed]",
      "text/plain": [
       "<Figure size 720x432 with 1 Axes>"
      ]
     },
     "metadata": {
      "needs_background": "light"
     },
     "output_type": "display_data"
    }
   ],
   "source": [
    "sns.boxplot(x=\"target\",y=\"trestbps\", data=df );"
   ]
  },
  {
   "cell_type": "code",
   "execution_count": 14,
   "id": "bfc6fb6c",
   "metadata": {},
   "outputs": [
    {
     "data": {
      "image/png": "[encoded data removed]",
      "text/plain": [
       "<Figure size 720x432 with 1 Axes>"
      ]
     },
     "metadata": {
      "needs_background": "light"
     },
     "output_type": "display_data"
    }
   ],
   "source": [
    "sns.boxplot(x=\"target\",y=\"thalach\", data=df );"
   ]
  },
  {
   "cell_type": "code",
   "execution_count": 15,
   "id": "4c27cd80",
   "metadata": {},
   "outputs": [
    {
     "data": {
      "image/png": "[encoded data removed]",
      "text/plain": [
       "<Figure size 720x432 with 2 Axes>"
      ]
     },
     "metadata": {
      "needs_background": "light"
     },
     "output_type": "display_data"
    }
   ],
   "source": [
    "sns.heatmap(df.corr(), annot=True);"
   ]
  },
  {
   "cell_type": "markdown",
   "id": "9XRYs7_ZwvG1",
   "metadata": {
    "id": "9XRYs7_ZwvG1"
   },
   "source": [
    "# Data Preprocessing"
   ]
  },
  {
   "cell_type": "code",
   "execution_count": 16,
   "id": "5d5dc755-7e67-4ee7-9706-a21c1bd6ff09",
   "metadata": {
    "id": "5d5dc755-7e67-4ee7-9706-a21c1bd6ff09"
   },
   "outputs": [],
   "source": [
    "X = df.drop('target',axis=1)\n",
    "y = df['target']"
   ]
  },
  {
   "cell_type": "code",
   "execution_count": 17,
   "id": "693051f4",
   "metadata": {},
   "outputs": [],
   "source": [
    "from sklearn.model_selection import train_test_split\n",
    "from sklearn.preprocessing import MinMaxScaler"
   ]
  },
  {
   "cell_type": "code",
   "execution_count": 18,
   "id": "fa5e27f9",
   "metadata": {},
   "outputs": [],
   "source": [
    "X_train, X_test, y_train, y_test = train_test_split(X, y, test_size=0.1, random_state=101)"
   ]
  },
  {
   "cell_type": "code",
   "execution_count": 19,
   "id": "611def2b",
   "metadata": {},
   "outputs": [],
   "source": [
    "scaler = MinMaxScaler()"
   ]
  },
  {
   "cell_type": "code",
   "execution_count": 20,
   "id": "e1e284e2",
   "metadata": {},
   "outputs": [],
   "source": [
    "X_train_scaled = scaler.fit_transform(X_train)\n",
    "X_test_scaled = scaler.transform(X_test)"
   ]
  },
  {
   "cell_type": "markdown",
   "id": "jeBjgfDiw6uJ",
   "metadata": {
    "id": "jeBjgfDiw6uJ"
   },
   "source": [
    "# Implement Logistic Regression and Evaluate"
   ]
  },
  {
   "cell_type": "code",
   "execution_count": 21,
   "id": "f7f6864d-dfad-433b-a2a5-fd7e92865fd0",
   "metadata": {
    "id": "f7f6864d-dfad-433b-a2a5-fd7e92865fd0"
   },
   "outputs": [],
   "source": [
    "from sklearn.linear_model import LogisticRegression"
   ]
  },
  {
   "cell_type": "code",
   "execution_count": 22,
   "id": "2605e4a6",
   "metadata": {},
   "outputs": [],
   "source": [
    "log_model = LogisticRegression()"
   ]
  },
  {
   "cell_type": "code",
   "execution_count": 23,
   "id": "311c9f30",
   "metadata": {},
   "outputs": [
    {
     "data": {
      "text/plain": [
       "LogisticRegression()"
      ]
     },
     "execution_count": 23,
     "metadata": {},
     "output_type": "execute_result"
    }
   ],
   "source": [
    "log_model.fit(X_train_scaled, y_train)"
   ]
  },
  {
   "cell_type": "code",
   "execution_count": 24,
   "id": "b43c773a",
   "metadata": {},
   "outputs": [
    {
     "data": {
      "text/plain": [
       "array([0, 0, 0, 0, 1, 0, 1, 1, 1, 0, 1, 1, 1, 1, 0, 1, 0, 1, 1, 1, 0, 0,\n",
       "       0, 0, 1, 1, 1, 0, 1, 1], dtype=int64)"
      ]
     },
     "execution_count": 24,
     "metadata": {},
     "output_type": "execute_result"
    }
   ],
   "source": [
    "y_pred = log_model.predict(X_test_scaled)\n",
    "y_pred"
   ]
  },
  {
   "cell_type": "code",
   "execution_count": 25,
   "id": "9e8224a3",
   "metadata": {},
   "outputs": [
    {
     "data": {
      "text/plain": [
       "array([[0.85115704, 0.14884296],\n",
       "       [0.87546152, 0.12453848],\n",
       "       [0.80451903, 0.19548097],\n",
       "       [0.74450531, 0.25549469],\n",
       "       [0.03962042, 0.96037958],\n",
       "       [0.72880071, 0.27119929],\n",
       "       [0.18157284, 0.81842716],\n",
       "       [0.4213288 , 0.5786712 ],\n",
       "       [0.09724784, 0.90275216],\n",
       "       [0.92071415, 0.07928585],\n",
       "       [0.4082298 , 0.5917702 ],\n",
       "       [0.03134562, 0.96865438],\n",
       "       [0.27000184, 0.72999816],\n",
       "       [0.46505818, 0.53494182],\n",
       "       [0.78756526, 0.21243474],\n",
       "       [0.28950373, 0.71049627],\n",
       "       [0.90986044, 0.09013956],\n",
       "       [0.2174978 , 0.7825022 ],\n",
       "       [0.33977683, 0.66022317],\n",
       "       [0.0597439 , 0.9402561 ],\n",
       "       [0.81580757, 0.18419243],\n",
       "       [0.90663533, 0.09336467],\n",
       "       [0.97684195, 0.02315805],\n",
       "       [0.9707456 , 0.0292544 ],\n",
       "       [0.38268675, 0.61731325],\n",
       "       [0.41437591, 0.58562409],\n",
       "       [0.09372324, 0.90627676],\n",
       "       [0.61882531, 0.38117469],\n",
       "       [0.24937229, 0.75062771],\n",
       "       [0.03269877, 0.96730123]])"
      ]
     },
     "execution_count": 25,
     "metadata": {},
     "output_type": "execute_result"
    }
   ],
   "source": [
    "y_pred_proba = log_model.predict_proba(X_test_scaled)\n",
    "y_pred_proba"
   ]
  },
  {
   "cell_type": "code",
   "execution_count": 26,
   "id": "6a70264e",
   "metadata": {},
   "outputs": [],
   "source": [
    "test_data = pd.concat([X_test, y_test], axis=1)"
   ]
  },
  {
   "cell_type": "code",
   "execution_count": 27,
   "id": "8bd4cc1e",
   "metadata": {},
   "outputs": [],
   "source": [
    "test_data[\"pred_proba\"] = y_pred_proba[:,1]"
   ]
  },
  {
   "cell_type": "code",
   "execution_count": 28,
   "id": "d515fe11",
   "metadata": {},
   "outputs": [
    {
     "data": {
      "text/html": [
       "<div>\n",
       "<style scoped>\n",
       "    .dataframe tbody tr th:only-of-type {\n",
       "        vertical-align: middle;\n",
       "    }\n",
       "\n",
       "    .dataframe tbody tr th {\n",
       "        vertical-align: top;\n",
       "    }\n",
       "\n",
       "    .dataframe thead th {\n",
       "        text-align: right;\n",
       "    }\n",
       "</style>\n",
       "<table border=\"1\" class=\"dataframe\">\n",
       "  <thead>\n",
       "    <tr style=\"text-align: right;\">\n",
       "      <th></th>\n",
       "      <th>age</th>\n",
       "      <th>sex</th>\n",
       "      <th>cp</th>\n",
       "      <th>trestbps</th>\n",
       "      <th>chol</th>\n",
       "      <th>fbs</th>\n",
       "      <th>restecg</th>\n",
       "      <th>thalach</th>\n",
       "      <th>exang</th>\n",
       "      <th>oldpeak</th>\n",
       "      <th>slope</th>\n",
       "      <th>ca</th>\n",
       "      <th>thal</th>\n",
       "      <th>target</th>\n",
       "      <th>pred_proba</th>\n",
       "      <th>pred</th>\n",
       "    </tr>\n",
       "  </thead>\n",
       "  <tbody>\n",
       "    <tr>\n",
       "      <th>260</th>\n",
       "      <td>66</td>\n",
       "      <td>0</td>\n",
       "      <td>0</td>\n",
       "      <td>178</td>\n",
       "      <td>228</td>\n",
       "      <td>1</td>\n",
       "      <td>1</td>\n",
       "      <td>165</td>\n",
       "      <td>1</td>\n",
       "      <td>1.0</td>\n",
       "      <td>1</td>\n",
       "      <td>2</td>\n",
       "      <td>3</td>\n",
       "      <td>0</td>\n",
       "      <td>0.148843</td>\n",
       "      <td>0</td>\n",
       "    </tr>\n",
       "    <tr>\n",
       "      <th>276</th>\n",
       "      <td>58</td>\n",
       "      <td>1</td>\n",
       "      <td>0</td>\n",
       "      <td>146</td>\n",
       "      <td>218</td>\n",
       "      <td>0</td>\n",
       "      <td>1</td>\n",
       "      <td>105</td>\n",
       "      <td>0</td>\n",
       "      <td>2.0</td>\n",
       "      <td>1</td>\n",
       "      <td>1</td>\n",
       "      <td>3</td>\n",
       "      <td>0</td>\n",
       "      <td>0.124538</td>\n",
       "      <td>0</td>\n",
       "    </tr>\n",
       "    <tr>\n",
       "      <th>192</th>\n",
       "      <td>54</td>\n",
       "      <td>1</td>\n",
       "      <td>0</td>\n",
       "      <td>120</td>\n",
       "      <td>188</td>\n",
       "      <td>0</td>\n",
       "      <td>1</td>\n",
       "      <td>113</td>\n",
       "      <td>0</td>\n",
       "      <td>1.4</td>\n",
       "      <td>1</td>\n",
       "      <td>1</td>\n",
       "      <td>3</td>\n",
       "      <td>0</td>\n",
       "      <td>0.195481</td>\n",
       "      <td>0</td>\n",
       "    </tr>\n",
       "    <tr>\n",
       "      <th>275</th>\n",
       "      <td>52</td>\n",
       "      <td>1</td>\n",
       "      <td>0</td>\n",
       "      <td>125</td>\n",
       "      <td>212</td>\n",
       "      <td>0</td>\n",
       "      <td>1</td>\n",
       "      <td>168</td>\n",
       "      <td>0</td>\n",
       "      <td>1.0</td>\n",
       "      <td>2</td>\n",
       "      <td>2</td>\n",
       "      <td>3</td>\n",
       "      <td>0</td>\n",
       "      <td>0.255495</td>\n",
       "      <td>0</td>\n",
       "    </tr>\n",
       "    <tr>\n",
       "      <th>136</th>\n",
       "      <td>60</td>\n",
       "      <td>0</td>\n",
       "      <td>2</td>\n",
       "      <td>120</td>\n",
       "      <td>178</td>\n",
       "      <td>1</td>\n",
       "      <td>1</td>\n",
       "      <td>96</td>\n",
       "      <td>0</td>\n",
       "      <td>0.0</td>\n",
       "      <td>2</td>\n",
       "      <td>0</td>\n",
       "      <td>2</td>\n",
       "      <td>1</td>\n",
       "      <td>0.960380</td>\n",
       "      <td>1</td>\n",
       "    </tr>\n",
       "    <tr>\n",
       "      <th>294</th>\n",
       "      <td>44</td>\n",
       "      <td>1</td>\n",
       "      <td>0</td>\n",
       "      <td>120</td>\n",
       "      <td>169</td>\n",
       "      <td>0</td>\n",
       "      <td>1</td>\n",
       "      <td>144</td>\n",
       "      <td>1</td>\n",
       "      <td>2.8</td>\n",
       "      <td>0</td>\n",
       "      <td>0</td>\n",
       "      <td>1</td>\n",
       "      <td>0</td>\n",
       "      <td>0.271199</td>\n",
       "      <td>0</td>\n",
       "    </tr>\n",
       "    <tr>\n",
       "      <th>12</th>\n",
       "      <td>49</td>\n",
       "      <td>1</td>\n",
       "      <td>1</td>\n",
       "      <td>130</td>\n",
       "      <td>266</td>\n",
       "      <td>0</td>\n",
       "      <td>1</td>\n",
       "      <td>171</td>\n",
       "      <td>0</td>\n",
       "      <td>0.6</td>\n",
       "      <td>2</td>\n",
       "      <td>0</td>\n",
       "      <td>2</td>\n",
       "      <td>1</td>\n",
       "      <td>0.818427</td>\n",
       "      <td>1</td>\n",
       "    </tr>\n",
       "    <tr>\n",
       "      <th>172</th>\n",
       "      <td>58</td>\n",
       "      <td>1</td>\n",
       "      <td>1</td>\n",
       "      <td>120</td>\n",
       "      <td>284</td>\n",
       "      <td>0</td>\n",
       "      <td>0</td>\n",
       "      <td>160</td>\n",
       "      <td>0</td>\n",
       "      <td>1.8</td>\n",
       "      <td>1</td>\n",
       "      <td>0</td>\n",
       "      <td>2</td>\n",
       "      <td>0</td>\n",
       "      <td>0.578671</td>\n",
       "      <td>1</td>\n",
       "    </tr>\n",
       "    <tr>\n",
       "      <th>149</th>\n",
       "      <td>42</td>\n",
       "      <td>1</td>\n",
       "      <td>2</td>\n",
       "      <td>130</td>\n",
       "      <td>180</td>\n",
       "      <td>0</td>\n",
       "      <td>1</td>\n",
       "      <td>150</td>\n",
       "      <td>0</td>\n",
       "      <td>0.0</td>\n",
       "      <td>2</td>\n",
       "      <td>0</td>\n",
       "      <td>2</td>\n",
       "      <td>1</td>\n",
       "      <td>0.902752</td>\n",
       "      <td>1</td>\n",
       "    </tr>\n",
       "    <tr>\n",
       "      <th>206</th>\n",
       "      <td>59</td>\n",
       "      <td>1</td>\n",
       "      <td>0</td>\n",
       "      <td>110</td>\n",
       "      <td>239</td>\n",
       "      <td>0</td>\n",
       "      <td>0</td>\n",
       "      <td>142</td>\n",
       "      <td>1</td>\n",
       "      <td>1.2</td>\n",
       "      <td>1</td>\n",
       "      <td>1</td>\n",
       "      <td>3</td>\n",
       "      <td>0</td>\n",
       "      <td>0.079286</td>\n",
       "      <td>0</td>\n",
       "    </tr>\n",
       "    <tr>\n",
       "      <th>259</th>\n",
       "      <td>38</td>\n",
       "      <td>1</td>\n",
       "      <td>3</td>\n",
       "      <td>120</td>\n",
       "      <td>231</td>\n",
       "      <td>0</td>\n",
       "      <td>1</td>\n",
       "      <td>182</td>\n",
       "      <td>1</td>\n",
       "      <td>3.8</td>\n",
       "      <td>1</td>\n",
       "      <td>0</td>\n",
       "      <td>3</td>\n",
       "      <td>0</td>\n",
       "      <td>0.591770</td>\n",
       "      <td>1</td>\n",
       "    </tr>\n",
       "    <tr>\n",
       "      <th>125</th>\n",
       "      <td>34</td>\n",
       "      <td>0</td>\n",
       "      <td>1</td>\n",
       "      <td>118</td>\n",
       "      <td>210</td>\n",
       "      <td>0</td>\n",
       "      <td>1</td>\n",
       "      <td>192</td>\n",
       "      <td>0</td>\n",
       "      <td>0.7</td>\n",
       "      <td>2</td>\n",
       "      <td>0</td>\n",
       "      <td>2</td>\n",
       "      <td>1</td>\n",
       "      <td>0.968654</td>\n",
       "      <td>1</td>\n",
       "    </tr>\n",
       "    <tr>\n",
       "      <th>4</th>\n",
       "      <td>57</td>\n",
       "      <td>0</td>\n",
       "      <td>0</td>\n",
       "      <td>120</td>\n",
       "      <td>354</td>\n",
       "      <td>0</td>\n",
       "      <td>1</td>\n",
       "      <td>163</td>\n",
       "      <td>1</td>\n",
       "      <td>0.6</td>\n",
       "      <td>2</td>\n",
       "      <td>0</td>\n",
       "      <td>2</td>\n",
       "      <td>1</td>\n",
       "      <td>0.729998</td>\n",
       "      <td>1</td>\n",
       "    </tr>\n",
       "    <tr>\n",
       "      <th>258</th>\n",
       "      <td>62</td>\n",
       "      <td>0</td>\n",
       "      <td>0</td>\n",
       "      <td>150</td>\n",
       "      <td>244</td>\n",
       "      <td>0</td>\n",
       "      <td>1</td>\n",
       "      <td>154</td>\n",
       "      <td>1</td>\n",
       "      <td>1.4</td>\n",
       "      <td>1</td>\n",
       "      <td>0</td>\n",
       "      <td>2</td>\n",
       "      <td>0</td>\n",
       "      <td>0.534942</td>\n",
       "      <td>1</td>\n",
       "    </tr>\n",
       "    <tr>\n",
       "      <th>265</th>\n",
       "      <td>66</td>\n",
       "      <td>1</td>\n",
       "      <td>0</td>\n",
       "      <td>112</td>\n",
       "      <td>212</td>\n",
       "      <td>0</td>\n",
       "      <td>0</td>\n",
       "      <td>132</td>\n",
       "      <td>1</td>\n",
       "      <td>0.1</td>\n",
       "      <td>2</td>\n",
       "      <td>1</td>\n",
       "      <td>2</td>\n",
       "      <td>0</td>\n",
       "      <td>0.212435</td>\n",
       "      <td>0</td>\n",
       "    </tr>\n",
       "    <tr>\n",
       "      <th>41</th>\n",
       "      <td>48</td>\n",
       "      <td>1</td>\n",
       "      <td>1</td>\n",
       "      <td>130</td>\n",
       "      <td>245</td>\n",
       "      <td>0</td>\n",
       "      <td>0</td>\n",
       "      <td>180</td>\n",
       "      <td>0</td>\n",
       "      <td>0.2</td>\n",
       "      <td>1</td>\n",
       "      <td>0</td>\n",
       "      <td>2</td>\n",
       "      <td>1</td>\n",
       "      <td>0.710496</td>\n",
       "      <td>1</td>\n",
       "    </tr>\n",
       "    <tr>\n",
       "      <th>237</th>\n",
       "      <td>60</td>\n",
       "      <td>1</td>\n",
       "      <td>0</td>\n",
       "      <td>140</td>\n",
       "      <td>293</td>\n",
       "      <td>0</td>\n",
       "      <td>0</td>\n",
       "      <td>170</td>\n",
       "      <td>0</td>\n",
       "      <td>1.2</td>\n",
       "      <td>1</td>\n",
       "      <td>2</td>\n",
       "      <td>3</td>\n",
       "      <td>0</td>\n",
       "      <td>0.090140</td>\n",
       "      <td>0</td>\n",
       "    </tr>\n",
       "    <tr>\n",
       "      <th>81</th>\n",
       "      <td>45</td>\n",
       "      <td>1</td>\n",
       "      <td>1</td>\n",
       "      <td>128</td>\n",
       "      <td>308</td>\n",
       "      <td>0</td>\n",
       "      <td>0</td>\n",
       "      <td>170</td>\n",
       "      <td>0</td>\n",
       "      <td>0.0</td>\n",
       "      <td>2</td>\n",
       "      <td>0</td>\n",
       "      <td>2</td>\n",
       "      <td>1</td>\n",
       "      <td>0.782502</td>\n",
       "      <td>1</td>\n",
       "    </tr>\n",
       "    <tr>\n",
       "      <th>145</th>\n",
       "      <td>70</td>\n",
       "      <td>1</td>\n",
       "      <td>1</td>\n",
       "      <td>156</td>\n",
       "      <td>245</td>\n",
       "      <td>0</td>\n",
       "      <td>0</td>\n",
       "      <td>143</td>\n",
       "      <td>0</td>\n",
       "      <td>0.0</td>\n",
       "      <td>2</td>\n",
       "      <td>0</td>\n",
       "      <td>2</td>\n",
       "      <td>1</td>\n",
       "      <td>0.660223</td>\n",
       "      <td>1</td>\n",
       "    </tr>\n",
       "    <tr>\n",
       "      <th>15</th>\n",
       "      <td>50</td>\n",
       "      <td>0</td>\n",
       "      <td>2</td>\n",
       "      <td>120</td>\n",
       "      <td>219</td>\n",
       "      <td>0</td>\n",
       "      <td>1</td>\n",
       "      <td>158</td>\n",
       "      <td>0</td>\n",
       "      <td>1.6</td>\n",
       "      <td>1</td>\n",
       "      <td>0</td>\n",
       "      <td>2</td>\n",
       "      <td>1</td>\n",
       "      <td>0.940256</td>\n",
       "      <td>1</td>\n",
       "    </tr>\n",
       "    <tr>\n",
       "      <th>167</th>\n",
       "      <td>62</td>\n",
       "      <td>0</td>\n",
       "      <td>0</td>\n",
       "      <td>140</td>\n",
       "      <td>268</td>\n",
       "      <td>0</td>\n",
       "      <td>0</td>\n",
       "      <td>160</td>\n",
       "      <td>0</td>\n",
       "      <td>3.6</td>\n",
       "      <td>0</td>\n",
       "      <td>2</td>\n",
       "      <td>2</td>\n",
       "      <td>0</td>\n",
       "      <td>0.184192</td>\n",
       "      <td>0</td>\n",
       "    </tr>\n",
       "    <tr>\n",
       "      <th>240</th>\n",
       "      <td>70</td>\n",
       "      <td>1</td>\n",
       "      <td>2</td>\n",
       "      <td>160</td>\n",
       "      <td>269</td>\n",
       "      <td>0</td>\n",
       "      <td>1</td>\n",
       "      <td>112</td>\n",
       "      <td>1</td>\n",
       "      <td>2.9</td>\n",
       "      <td>1</td>\n",
       "      <td>1</td>\n",
       "      <td>3</td>\n",
       "      <td>0</td>\n",
       "      <td>0.093365</td>\n",
       "      <td>0</td>\n",
       "    </tr>\n",
       "    <tr>\n",
       "      <th>166</th>\n",
       "      <td>67</td>\n",
       "      <td>1</td>\n",
       "      <td>0</td>\n",
       "      <td>120</td>\n",
       "      <td>229</td>\n",
       "      <td>0</td>\n",
       "      <td>0</td>\n",
       "      <td>129</td>\n",
       "      <td>1</td>\n",
       "      <td>2.6</td>\n",
       "      <td>1</td>\n",
       "      <td>2</td>\n",
       "      <td>3</td>\n",
       "      <td>0</td>\n",
       "      <td>0.023158</td>\n",
       "      <td>0</td>\n",
       "    </tr>\n",
       "    <tr>\n",
       "      <th>268</th>\n",
       "      <td>54</td>\n",
       "      <td>1</td>\n",
       "      <td>0</td>\n",
       "      <td>122</td>\n",
       "      <td>286</td>\n",
       "      <td>0</td>\n",
       "      <td>0</td>\n",
       "      <td>116</td>\n",
       "      <td>1</td>\n",
       "      <td>3.2</td>\n",
       "      <td>1</td>\n",
       "      <td>2</td>\n",
       "      <td>2</td>\n",
       "      <td>0</td>\n",
       "      <td>0.029254</td>\n",
       "      <td>0</td>\n",
       "    </tr>\n",
       "    <tr>\n",
       "      <th>13</th>\n",
       "      <td>64</td>\n",
       "      <td>1</td>\n",
       "      <td>3</td>\n",
       "      <td>110</td>\n",
       "      <td>211</td>\n",
       "      <td>0</td>\n",
       "      <td>0</td>\n",
       "      <td>144</td>\n",
       "      <td>1</td>\n",
       "      <td>1.8</td>\n",
       "      <td>1</td>\n",
       "      <td>0</td>\n",
       "      <td>2</td>\n",
       "      <td>1</td>\n",
       "      <td>0.617313</td>\n",
       "      <td>1</td>\n",
       "    </tr>\n",
       "    <tr>\n",
       "      <th>119</th>\n",
       "      <td>46</td>\n",
       "      <td>0</td>\n",
       "      <td>0</td>\n",
       "      <td>138</td>\n",
       "      <td>243</td>\n",
       "      <td>0</td>\n",
       "      <td>0</td>\n",
       "      <td>152</td>\n",
       "      <td>1</td>\n",
       "      <td>0.0</td>\n",
       "      <td>1</td>\n",
       "      <td>0</td>\n",
       "      <td>2</td>\n",
       "      <td>1</td>\n",
       "      <td>0.585624</td>\n",
       "      <td>1</td>\n",
       "    </tr>\n",
       "    <tr>\n",
       "      <th>39</th>\n",
       "      <td>65</td>\n",
       "      <td>0</td>\n",
       "      <td>2</td>\n",
       "      <td>160</td>\n",
       "      <td>360</td>\n",
       "      <td>0</td>\n",
       "      <td>0</td>\n",
       "      <td>151</td>\n",
       "      <td>0</td>\n",
       "      <td>0.8</td>\n",
       "      <td>2</td>\n",
       "      <td>0</td>\n",
       "      <td>2</td>\n",
       "      <td>1</td>\n",
       "      <td>0.906277</td>\n",
       "      <td>1</td>\n",
       "    </tr>\n",
       "    <tr>\n",
       "      <th>91</th>\n",
       "      <td>57</td>\n",
       "      <td>1</td>\n",
       "      <td>0</td>\n",
       "      <td>132</td>\n",
       "      <td>207</td>\n",
       "      <td>0</td>\n",
       "      <td>1</td>\n",
       "      <td>168</td>\n",
       "      <td>1</td>\n",
       "      <td>0.0</td>\n",
       "      <td>2</td>\n",
       "      <td>0</td>\n",
       "      <td>3</td>\n",
       "      <td>1</td>\n",
       "      <td>0.381175</td>\n",
       "      <td>0</td>\n",
       "    </tr>\n",
       "    <tr>\n",
       "      <th>56</th>\n",
       "      <td>48</td>\n",
       "      <td>1</td>\n",
       "      <td>0</td>\n",
       "      <td>122</td>\n",
       "      <td>222</td>\n",
       "      <td>0</td>\n",
       "      <td>0</td>\n",
       "      <td>186</td>\n",
       "      <td>0</td>\n",
       "      <td>0.0</td>\n",
       "      <td>2</td>\n",
       "      <td>0</td>\n",
       "      <td>2</td>\n",
       "      <td>1</td>\n",
       "      <td>0.750628</td>\n",
       "      <td>1</td>\n",
       "    </tr>\n",
       "    <tr>\n",
       "      <th>16</th>\n",
       "      <td>58</td>\n",
       "      <td>0</td>\n",
       "      <td>2</td>\n",
       "      <td>120</td>\n",
       "      <td>340</td>\n",
       "      <td>0</td>\n",
       "      <td>1</td>\n",
       "      <td>172</td>\n",
       "      <td>0</td>\n",
       "      <td>0.0</td>\n",
       "      <td>2</td>\n",
       "      <td>0</td>\n",
       "      <td>2</td>\n",
       "      <td>1</td>\n",
       "      <td>0.967301</td>\n",
       "      <td>1</td>\n",
       "    </tr>\n",
       "  </tbody>\n",
       "</table>\n",
       "</div>"
      ],
      "text/plain": [
       "     age  sex  cp  trestbps  chol  fbs  restecg  thalach  exang  oldpeak  \\\n",
       "260   66    0   0       178   228    1        1      165      1      1.0   \n",
       "276   58    1   0       146   218    0        1      105      0      2.0   \n",
       "192   54    1   0       120   188    0        1      113      0      1.4   \n",
       "275   52    1   0       125   212    0        1      168      0      1.0   \n",
       "136   60    0   2       120   178    1        1       96      0      0.0   \n",
       "294   44    1   0       120   169    0        1      144      1      2.8   \n",
       "12    49    1   1       130   266    0        1      171      0      0.6   \n",
       "172   58    1   1       120   284    0        0      160      0      1.8   \n",
       "149   42    1   2       130   180    0        1      150      0      0.0   \n",
       "206   59    1   0       110   239    0        0      142      1      1.2   \n",
       "259   38    1   3       120   231    0        1      182      1      3.8   \n",
       "125   34    0   1       118   210    0        1      192      0      0.7   \n",
       "4     57    0   0       120   354    0        1      163      1      0.6   \n",
       "258   62    0   0       150   244    0        1      154      1      1.4   \n",
       "265   66    1   0       112   212    0        0      132      1      0.1   \n",
       "41    48    1   1       130   245    0        0      180      0      0.2   \n",
       "237   60    1   0       140   293    0        0      170      0      1.2   \n",
       "81    45    1   1       128   308    0        0      170      0      0.0   \n",
       "145   70    1   1       156   245    0        0      143      0      0.0   \n",
       "15    50    0   2       120   219    0        1      158      0      1.6   \n",
       "167   62    0   0       140   268    0        0      160      0      3.6   \n",
       "240   70    1   2       160   269    0        1      112      1      2.9   \n",
       "166   67    1   0       120   229    0        0      129      1      2.6   \n",
       "268   54    1   0       122   286    0        0      116      1      3.2   \n",
       "13    64    1   3       110   211    0        0      144      1      1.8   \n",
       "119   46    0   0       138   243    0        0      152      1      0.0   \n",
       "39    65    0   2       160   360    0        0      151      0      0.8   \n",
       "91    57    1   0       132   207    0        1      168      1      0.0   \n",
       "56    48    1   0       122   222    0        0      186      0      0.0   \n",
       "16    58    0   2       120   340    0        1      172      0      0.0   \n",
       "\n",
       "     slope  ca  thal  target  pred_proba  pred  \n",
       "260      1   2     3       0    0.148843     0  \n",
       "276      1   1     3       0    0.124538     0  \n",
       "192      1   1     3       0    0.195481     0  \n",
       "275      2   2     3       0    0.255495     0  \n",
       "136      2   0     2       1    0.960380     1  \n",
       "294      0   0     1       0    0.271199     0  \n",
       "12       2   0     2       1    0.818427     1  \n",
       "172      1   0     2       0    0.578671     1  \n",
       "149      2   0     2       1    0.902752     1  \n",
       "206      1   1     3       0    0.079286     0  \n",
       "259      1   0     3       0    0.591770     1  \n",
       "125      2   0     2       1    0.968654     1  \n",
       "4        2   0     2       1    0.729998     1  \n",
       "258      1   0     2       0    0.534942     1  \n",
       "265      2   1     2       0    0.212435     0  \n",
       "41       1   0     2       1    0.710496     1  \n",
       "237      1   2     3       0    0.090140     0  \n",
       "81       2   0     2       1    0.782502     1  \n",
       "145      2   0     2       1    0.660223     1  \n",
       "15       1   0     2       1    0.940256     1  \n",
       "167      0   2     2       0    0.184192     0  \n",
       "240      1   1     3       0    0.093365     0  \n",
       "166      1   2     3       0    0.023158     0  \n",
       "268      1   2     2       0    0.029254     0  \n",
       "13       1   0     2       1    0.617313     1  \n",
       "119      1   0     2       1    0.585624     1  \n",
       "39       2   0     2       1    0.906277     1  \n",
       "91       2   0     3       1    0.381175     0  \n",
       "56       2   0     2       1    0.750628     1  \n",
       "16       2   0     2       1    0.967301     1  "
      ]
     },
     "execution_count": 28,
     "metadata": {},
     "output_type": "execute_result"
    }
   ],
   "source": [
    "test_data[\"pred\"] = y_pred\n",
    "test_data"
   ]
  },
  {
   "cell_type": "code",
   "execution_count": 29,
   "id": "5548ca1b",
   "metadata": {},
   "outputs": [],
   "source": [
    "from sklearn.metrics import confusion_matrix, classification_report, plot_confusion_matrix"
   ]
  },
  {
   "cell_type": "code",
   "execution_count": 30,
   "id": "1079011a",
   "metadata": {},
   "outputs": [
    {
     "data": {
      "image/png": "[encoded data removed]",
      "text/plain": [
       "<Figure size 720x432 with 2 Axes>"
      ]
     },
     "metadata": {
      "needs_background": "light"
     },
     "output_type": "display_data"
    }
   ],
   "source": [
    "plot_confusion_matrix(log_model, X_test_scaled, y_test);"
   ]
  },
  {
   "cell_type": "code",
   "execution_count": 31,
   "id": "9caa407e",
   "metadata": {
    "scrolled": true
   },
   "outputs": [
    {
     "name": "stdout",
     "output_type": "stream",
     "text": [
      "              precision    recall  f1-score   support\n",
      "\n",
      "           0       0.92      0.80      0.86        15\n",
      "           1       0.82      0.93      0.87        15\n",
      "\n",
      "    accuracy                           0.87        30\n",
      "   macro avg       0.87      0.87      0.87        30\n",
      "weighted avg       0.87      0.87      0.87        30\n",
      "\n"
     ]
    }
   ],
   "source": [
    "print(classification_report(y_test,y_pred))"
   ]
  },
  {
   "cell_type": "code",
   "execution_count": 32,
   "id": "a1ba4471",
   "metadata": {},
   "outputs": [],
   "source": [
    "# cross validation\n",
    "\n",
    "from sklearn.model_selection import cross_val_score, cross_validate"
   ]
  },
  {
   "cell_type": "code",
   "execution_count": 33,
   "id": "c400d7bc",
   "metadata": {},
   "outputs": [
    {
     "data": {
      "text/plain": [
       "dict_keys(['explained_variance', 'r2', 'max_error', 'neg_median_absolute_error', 'neg_mean_absolute_error', 'neg_mean_absolute_percentage_error', 'neg_mean_squared_error', 'neg_mean_squared_log_error', 'neg_root_mean_squared_error', 'neg_mean_poisson_deviance', 'neg_mean_gamma_deviance', 'accuracy', 'top_k_accuracy', 'roc_auc', 'roc_auc_ovr', 'roc_auc_ovo', 'roc_auc_ovr_weighted', 'roc_auc_ovo_weighted', 'balanced_accuracy', 'average_precision', 'neg_log_loss', 'neg_brier_score', 'adjusted_rand_score', 'rand_score', 'homogeneity_score', 'completeness_score', 'v_measure_score', 'mutual_info_score', 'adjusted_mutual_info_score', 'normalized_mutual_info_score', 'fowlkes_mallows_score', 'precision', 'precision_macro', 'precision_micro', 'precision_samples', 'precision_weighted', 'recall', 'recall_macro', 'recall_micro', 'recall_samples', 'recall_weighted', 'f1', 'f1_macro', 'f1_micro', 'f1_samples', 'f1_weighted', 'jaccard', 'jaccard_macro', 'jaccard_micro', 'jaccard_samples', 'jaccard_weighted'])"
      ]
     },
     "execution_count": 33,
     "metadata": {},
     "output_type": "execute_result"
    }
   ],
   "source": [
    "import sklearn\n",
    "sklearn.metrics.SCORERS.keys()"
   ]
  },
  {
   "cell_type": "code",
   "execution_count": 34,
   "id": "7169dc65",
   "metadata": {},
   "outputs": [
    {
     "data": {
      "text/html": [
       "<div>\n",
       "<style scoped>\n",
       "    .dataframe tbody tr th:only-of-type {\n",
       "        vertical-align: middle;\n",
       "    }\n",
       "\n",
       "    .dataframe tbody tr th {\n",
       "        vertical-align: top;\n",
       "    }\n",
       "\n",
       "    .dataframe thead th {\n",
       "        text-align: right;\n",
       "    }\n",
       "</style>\n",
       "<table border=\"1\" class=\"dataframe\">\n",
       "  <thead>\n",
       "    <tr style=\"text-align: right;\">\n",
       "      <th></th>\n",
       "      <th>fit_time</th>\n",
       "      <th>score_time</th>\n",
       "      <th>test_accuracy</th>\n",
       "      <th>test_precision_weighted</th>\n",
       "      <th>test_recall_weighted</th>\n",
       "      <th>test_f1_weighted</th>\n",
       "    </tr>\n",
       "  </thead>\n",
       "  <tbody>\n",
       "    <tr>\n",
       "      <th>1</th>\n",
       "      <td>0.015632</td>\n",
       "      <td>0.000000</td>\n",
       "      <td>0.925926</td>\n",
       "      <td>0.935185</td>\n",
       "      <td>0.925926</td>\n",
       "      <td>0.925309</td>\n",
       "    </tr>\n",
       "    <tr>\n",
       "      <th>2</th>\n",
       "      <td>0.015614</td>\n",
       "      <td>0.000000</td>\n",
       "      <td>0.777778</td>\n",
       "      <td>0.777778</td>\n",
       "      <td>0.777778</td>\n",
       "      <td>0.777778</td>\n",
       "    </tr>\n",
       "    <tr>\n",
       "      <th>3</th>\n",
       "      <td>0.000000</td>\n",
       "      <td>0.000000</td>\n",
       "      <td>0.777778</td>\n",
       "      <td>0.798246</td>\n",
       "      <td>0.777778</td>\n",
       "      <td>0.768627</td>\n",
       "    </tr>\n",
       "    <tr>\n",
       "      <th>4</th>\n",
       "      <td>0.015632</td>\n",
       "      <td>0.000000</td>\n",
       "      <td>0.777778</td>\n",
       "      <td>0.780392</td>\n",
       "      <td>0.777778</td>\n",
       "      <td>0.774621</td>\n",
       "    </tr>\n",
       "    <tr>\n",
       "      <th>5</th>\n",
       "      <td>0.000000</td>\n",
       "      <td>0.000000</td>\n",
       "      <td>0.703704</td>\n",
       "      <td>0.703268</td>\n",
       "      <td>0.703704</td>\n",
       "      <td>0.699495</td>\n",
       "    </tr>\n",
       "    <tr>\n",
       "      <th>6</th>\n",
       "      <td>0.015621</td>\n",
       "      <td>0.000000</td>\n",
       "      <td>0.777778</td>\n",
       "      <td>0.777778</td>\n",
       "      <td>0.777778</td>\n",
       "      <td>0.777778</td>\n",
       "    </tr>\n",
       "    <tr>\n",
       "      <th>7</th>\n",
       "      <td>0.000000</td>\n",
       "      <td>0.015622</td>\n",
       "      <td>0.962963</td>\n",
       "      <td>0.965278</td>\n",
       "      <td>0.962963</td>\n",
       "      <td>0.962755</td>\n",
       "    </tr>\n",
       "    <tr>\n",
       "      <th>8</th>\n",
       "      <td>0.000000</td>\n",
       "      <td>0.000000</td>\n",
       "      <td>0.923077</td>\n",
       "      <td>0.934066</td>\n",
       "      <td>0.923077</td>\n",
       "      <td>0.923077</td>\n",
       "    </tr>\n",
       "    <tr>\n",
       "      <th>9</th>\n",
       "      <td>0.015621</td>\n",
       "      <td>0.000000</td>\n",
       "      <td>0.846154</td>\n",
       "      <td>0.852885</td>\n",
       "      <td>0.846154</td>\n",
       "      <td>0.844289</td>\n",
       "    </tr>\n",
       "    <tr>\n",
       "      <th>10</th>\n",
       "      <td>0.000000</td>\n",
       "      <td>0.015621</td>\n",
       "      <td>0.884615</td>\n",
       "      <td>0.886247</td>\n",
       "      <td>0.884615</td>\n",
       "      <td>0.884096</td>\n",
       "    </tr>\n",
       "  </tbody>\n",
       "</table>\n",
       "</div>"
      ],
      "text/plain": [
       "    fit_time  score_time  test_accuracy  test_precision_weighted  \\\n",
       "1   0.015632    0.000000       0.925926                 0.935185   \n",
       "2   0.015614    0.000000       0.777778                 0.777778   \n",
       "3   0.000000    0.000000       0.777778                 0.798246   \n",
       "4   0.015632    0.000000       0.777778                 0.780392   \n",
       "5   0.000000    0.000000       0.703704                 0.703268   \n",
       "6   0.015621    0.000000       0.777778                 0.777778   \n",
       "7   0.000000    0.015622       0.962963                 0.965278   \n",
       "8   0.000000    0.000000       0.923077                 0.934066   \n",
       "9   0.015621    0.000000       0.846154                 0.852885   \n",
       "10  0.000000    0.015621       0.884615                 0.886247   \n",
       "\n",
       "    test_recall_weighted  test_f1_weighted  \n",
       "1               0.925926          0.925309  \n",
       "2               0.777778          0.777778  \n",
       "3               0.777778          0.768627  \n",
       "4               0.777778          0.774621  \n",
       "5               0.703704          0.699495  \n",
       "6               0.777778          0.777778  \n",
       "7               0.962963          0.962755  \n",
       "8               0.923077          0.923077  \n",
       "9               0.846154          0.844289  \n",
       "10              0.884615          0.884096  "
      ]
     },
     "execution_count": 34,
     "metadata": {},
     "output_type": "execute_result"
    }
   ],
   "source": [
    "model = LogisticRegression()\n",
    "\n",
    "scores = cross_validate(model, X_train_scaled, y_train, scoring = ['accuracy', 'precision_weighted','recall_weighted',\n",
    "                                                                   'f1_weighted'], cv = 10)\n",
    "df_scores = pd.DataFrame(scores, index = range(1, 11))\n",
    "df_scores"
   ]
  },
  {
   "cell_type": "code",
   "execution_count": 35,
   "id": "471ba377",
   "metadata": {
    "scrolled": true
   },
   "outputs": [
    {
     "data": {
      "text/plain": [
       "test_accuracy              0.835755\n",
       "test_precision_weighted    0.841112\n",
       "test_recall_weighted       0.835755\n",
       "test_f1_weighted           0.833783\n",
       "dtype: float64"
      ]
     },
     "execution_count": 35,
     "metadata": {},
     "output_type": "execute_result"
    }
   ],
   "source": [
    "df_scores.mean()[2:]"
   ]
  },
  {
   "cell_type": "code",
   "execution_count": 36,
   "id": "e1d06544",
   "metadata": {},
   "outputs": [],
   "source": [
    "# ROC AND AUC CURVE"
   ]
  },
  {
   "cell_type": "code",
   "execution_count": 37,
   "id": "c109e59a",
   "metadata": {},
   "outputs": [],
   "source": [
    "from sklearn.metrics import plot_roc_curve, plot_precision_recall_curve, roc_auc_score, auc, roc_curve"
   ]
  },
  {
   "cell_type": "code",
   "execution_count": 38,
   "id": "c87cd3b1",
   "metadata": {},
   "outputs": [
    {
     "data": {
      "image/png": "[encoded data removed]",
      "text/plain": [
       "<Figure size 720x432 with 1 Axes>"
      ]
     },
     "metadata": {
      "needs_background": "light"
     },
     "output_type": "display_data"
    }
   ],
   "source": [
    "plot_roc_curve(log_model, X_test_scaled, y_test, response_method='auto');"
   ]
  },
  {
   "cell_type": "code",
   "execution_count": 39,
   "id": "dc66c6c5",
   "metadata": {},
   "outputs": [],
   "source": [
    "fp_rate, tp_rate, thresholds = roc_curve(y_test, y_pred_proba[:,1])"
   ]
  },
  {
   "cell_type": "code",
   "execution_count": 40,
   "id": "45b23b96",
   "metadata": {},
   "outputs": [
    {
     "data": {
      "text/plain": [
       "0.6173132453882476"
      ]
     },
     "execution_count": 40,
     "metadata": {},
     "output_type": "execute_result"
    }
   ],
   "source": [
    "optimal_idx = np.argmax(tp_rate - fp_rate)\n",
    "optimal_threshold = thresholds[optimal_idx]\n",
    "optimal_threshold"
   ]
  },
  {
   "cell_type": "code",
   "execution_count": 41,
   "id": "6a7e33f4",
   "metadata": {
    "scrolled": true
   },
   "outputs": [
    {
     "data": {
      "text/html": [
       "<div>\n",
       "<style scoped>\n",
       "    .dataframe tbody tr th:only-of-type {\n",
       "        vertical-align: middle;\n",
       "    }\n",
       "\n",
       "    .dataframe tbody tr th {\n",
       "        vertical-align: top;\n",
       "    }\n",
       "\n",
       "    .dataframe thead th {\n",
       "        text-align: right;\n",
       "    }\n",
       "</style>\n",
       "<table border=\"1\" class=\"dataframe\">\n",
       "  <thead>\n",
       "    <tr style=\"text-align: right;\">\n",
       "      <th></th>\n",
       "      <th>fp_rate</th>\n",
       "      <th>tp_rate</th>\n",
       "      <th>thresholds</th>\n",
       "    </tr>\n",
       "  </thead>\n",
       "  <tbody>\n",
       "    <tr>\n",
       "      <th>0</th>\n",
       "      <td>0.000000</td>\n",
       "      <td>0.000000</td>\n",
       "      <td>1.968654</td>\n",
       "    </tr>\n",
       "    <tr>\n",
       "      <th>1</th>\n",
       "      <td>0.000000</td>\n",
       "      <td>0.066667</td>\n",
       "      <td>0.968654</td>\n",
       "    </tr>\n",
       "    <tr>\n",
       "      <th>2</th>\n",
       "      <td>0.000000</td>\n",
       "      <td>0.866667</td>\n",
       "      <td>0.617313</td>\n",
       "    </tr>\n",
       "    <tr>\n",
       "      <th>3</th>\n",
       "      <td>0.066667</td>\n",
       "      <td>0.866667</td>\n",
       "      <td>0.591770</td>\n",
       "    </tr>\n",
       "    <tr>\n",
       "      <th>4</th>\n",
       "      <td>0.066667</td>\n",
       "      <td>0.933333</td>\n",
       "      <td>0.585624</td>\n",
       "    </tr>\n",
       "    <tr>\n",
       "      <th>5</th>\n",
       "      <td>0.200000</td>\n",
       "      <td>0.933333</td>\n",
       "      <td>0.534942</td>\n",
       "    </tr>\n",
       "    <tr>\n",
       "      <th>6</th>\n",
       "      <td>0.200000</td>\n",
       "      <td>1.000000</td>\n",
       "      <td>0.381175</td>\n",
       "    </tr>\n",
       "    <tr>\n",
       "      <th>7</th>\n",
       "      <td>1.000000</td>\n",
       "      <td>1.000000</td>\n",
       "      <td>0.023158</td>\n",
       "    </tr>\n",
       "  </tbody>\n",
       "</table>\n",
       "</div>"
      ],
      "text/plain": [
       "    fp_rate   tp_rate  thresholds\n",
       "0  0.000000  0.000000    1.968654\n",
       "1  0.000000  0.066667    0.968654\n",
       "2  0.000000  0.866667    0.617313\n",
       "3  0.066667  0.866667    0.591770\n",
       "4  0.066667  0.933333    0.585624\n",
       "5  0.200000  0.933333    0.534942\n",
       "6  0.200000  1.000000    0.381175\n",
       "7  1.000000  1.000000    0.023158"
      ]
     },
     "execution_count": 41,
     "metadata": {},
     "output_type": "execute_result"
    }
   ],
   "source": [
    "roc_curve = {\"fp_rate\":fp_rate, \"tp_rate\":tp_rate, \"thresholds\":thresholds}\n",
    "df_roc_curve = pd.DataFrame(roc_curve)\n",
    "df_roc_curve"
   ]
  },
  {
   "cell_type": "code",
   "execution_count": 42,
   "id": "dc07ff9c",
   "metadata": {},
   "outputs": [
    {
     "data": {
      "text/plain": [
       "fp_rate       0.000000\n",
       "tp_rate       0.866667\n",
       "thresholds    0.617313\n",
       "Name: 2, dtype: float64"
      ]
     },
     "execution_count": 42,
     "metadata": {},
     "output_type": "execute_result"
    }
   ],
   "source": [
    "df_roc_curve.iloc[optimal_idx]"
   ]
  },
  {
   "cell_type": "code",
   "execution_count": 43,
   "id": "6b964301",
   "metadata": {},
   "outputs": [],
   "source": [
    "test_data[\"pred2\"] = test_data[\"pred_proba\"].apply(lambda x : 1 if x >= optimal_threshold else 0)"
   ]
  },
  {
   "cell_type": "code",
   "execution_count": 44,
   "id": "094a040b",
   "metadata": {
    "scrolled": true
   },
   "outputs": [
    {
     "name": "stdout",
     "output_type": "stream",
     "text": [
      "[[12  3]\n",
      " [ 1 14]]\n",
      "              precision    recall  f1-score   support\n",
      "\n",
      "           0       0.92      0.80      0.86        15\n",
      "           1       0.82      0.93      0.87        15\n",
      "\n",
      "    accuracy                           0.87        30\n",
      "   macro avg       0.87      0.87      0.87        30\n",
      "weighted avg       0.87      0.87      0.87        30\n",
      "\n"
     ]
    }
   ],
   "source": [
    "print(confusion_matrix(y_test,y_pred))\n",
    "print(classification_report(y_test,y_pred))"
   ]
  },
  {
   "cell_type": "code",
   "execution_count": 45,
   "id": "83929065",
   "metadata": {},
   "outputs": [],
   "source": [
    "y_pred2 = test_data[\"pred2\"]"
   ]
  },
  {
   "cell_type": "code",
   "execution_count": 46,
   "id": "5bcc3172",
   "metadata": {
    "scrolled": false
   },
   "outputs": [
    {
     "name": "stdout",
     "output_type": "stream",
     "text": [
      "[[15  0]\n",
      " [ 2 13]]\n",
      "              precision    recall  f1-score   support\n",
      "\n",
      "           0       0.88      1.00      0.94        15\n",
      "           1       1.00      0.87      0.93        15\n",
      "\n",
      "    accuracy                           0.93        30\n",
      "   macro avg       0.94      0.93      0.93        30\n",
      "weighted avg       0.94      0.93      0.93        30\n",
      "\n"
     ]
    }
   ],
   "source": [
    "print(confusion_matrix(y_test,y_pred2))\n",
    "print(classification_report(y_test,y_pred2))"
   ]
  },
  {
   "cell_type": "markdown",
   "id": "uyHR7S4ExKCU",
   "metadata": {
    "id": "uyHR7S4ExKCU"
   },
   "source": [
    "# Implement KNN and Evaluate"
   ]
  },
  {
   "cell_type": "code",
   "execution_count": 47,
   "id": "612bff88-57f4-4d18-88bc-6fc7bb95735f",
   "metadata": {
    "id": "612bff88-57f4-4d18-88bc-6fc7bb95735f"
   },
   "outputs": [],
   "source": [
    "from sklearn.neighbors import KNeighborsClassifier"
   ]
  },
  {
   "cell_type": "code",
   "execution_count": 48,
   "id": "e3208cee",
   "metadata": {},
   "outputs": [],
   "source": [
    "knn_model = KNeighborsClassifier(n_neighbors=5) "
   ]
  },
  {
   "cell_type": "code",
   "execution_count": 49,
   "id": "d7b31968",
   "metadata": {},
   "outputs": [
    {
     "data": {
      "text/plain": [
       "KNeighborsClassifier()"
      ]
     },
     "execution_count": 49,
     "metadata": {},
     "output_type": "execute_result"
    }
   ],
   "source": [
    "knn_model.fit(X_train_scaled, y_train)"
   ]
  },
  {
   "cell_type": "code",
   "execution_count": 50,
   "id": "91ae39cb",
   "metadata": {
    "scrolled": true
   },
   "outputs": [
    {
     "data": {
      "text/plain": [
       "array([0, 0, 0, 0, 1, 0, 1, 1, 1, 0, 1, 1, 0, 0, 0, 1, 0, 1, 1, 1, 0, 0,\n",
       "       0, 0, 1, 0, 1, 0, 1, 1], dtype=int64)"
      ]
     },
     "execution_count": 50,
     "metadata": {},
     "output_type": "execute_result"
    }
   ],
   "source": [
    "y_pred = knn_model.predict(X_test_scaled)\n",
    "y_pred"
   ]
  },
  {
   "cell_type": "code",
   "execution_count": 51,
   "id": "4cca2116",
   "metadata": {},
   "outputs": [],
   "source": [
    "y_pred_proba = knn_model.predict_proba(X_test_scaled)"
   ]
  },
  {
   "cell_type": "code",
   "execution_count": 52,
   "id": "39754d4c",
   "metadata": {},
   "outputs": [
    {
     "data": {
      "text/html": [
       "<div>\n",
       "<style scoped>\n",
       "    .dataframe tbody tr th:only-of-type {\n",
       "        vertical-align: middle;\n",
       "    }\n",
       "\n",
       "    .dataframe tbody tr th {\n",
       "        vertical-align: top;\n",
       "    }\n",
       "\n",
       "    .dataframe thead th {\n",
       "        text-align: right;\n",
       "    }\n",
       "</style>\n",
       "<table border=\"1\" class=\"dataframe\">\n",
       "  <thead>\n",
       "    <tr style=\"text-align: right;\">\n",
       "      <th></th>\n",
       "      <th>0</th>\n",
       "      <th>1</th>\n",
       "    </tr>\n",
       "  </thead>\n",
       "  <tbody>\n",
       "    <tr>\n",
       "      <th>0</th>\n",
       "      <td>0.8</td>\n",
       "      <td>0.2</td>\n",
       "    </tr>\n",
       "    <tr>\n",
       "      <th>1</th>\n",
       "      <td>0.8</td>\n",
       "      <td>0.2</td>\n",
       "    </tr>\n",
       "    <tr>\n",
       "      <th>2</th>\n",
       "      <td>0.8</td>\n",
       "      <td>0.2</td>\n",
       "    </tr>\n",
       "    <tr>\n",
       "      <th>3</th>\n",
       "      <td>0.8</td>\n",
       "      <td>0.2</td>\n",
       "    </tr>\n",
       "    <tr>\n",
       "      <th>4</th>\n",
       "      <td>0.2</td>\n",
       "      <td>0.8</td>\n",
       "    </tr>\n",
       "    <tr>\n",
       "      <th>5</th>\n",
       "      <td>0.6</td>\n",
       "      <td>0.4</td>\n",
       "    </tr>\n",
       "    <tr>\n",
       "      <th>6</th>\n",
       "      <td>0.0</td>\n",
       "      <td>1.0</td>\n",
       "    </tr>\n",
       "    <tr>\n",
       "      <th>7</th>\n",
       "      <td>0.4</td>\n",
       "      <td>0.6</td>\n",
       "    </tr>\n",
       "    <tr>\n",
       "      <th>8</th>\n",
       "      <td>0.2</td>\n",
       "      <td>0.8</td>\n",
       "    </tr>\n",
       "    <tr>\n",
       "      <th>9</th>\n",
       "      <td>1.0</td>\n",
       "      <td>0.0</td>\n",
       "    </tr>\n",
       "    <tr>\n",
       "      <th>10</th>\n",
       "      <td>0.2</td>\n",
       "      <td>0.8</td>\n",
       "    </tr>\n",
       "    <tr>\n",
       "      <th>11</th>\n",
       "      <td>0.0</td>\n",
       "      <td>1.0</td>\n",
       "    </tr>\n",
       "    <tr>\n",
       "      <th>12</th>\n",
       "      <td>0.8</td>\n",
       "      <td>0.2</td>\n",
       "    </tr>\n",
       "    <tr>\n",
       "      <th>13</th>\n",
       "      <td>1.0</td>\n",
       "      <td>0.0</td>\n",
       "    </tr>\n",
       "    <tr>\n",
       "      <th>14</th>\n",
       "      <td>0.6</td>\n",
       "      <td>0.4</td>\n",
       "    </tr>\n",
       "    <tr>\n",
       "      <th>15</th>\n",
       "      <td>0.2</td>\n",
       "      <td>0.8</td>\n",
       "    </tr>\n",
       "    <tr>\n",
       "      <th>16</th>\n",
       "      <td>1.0</td>\n",
       "      <td>0.0</td>\n",
       "    </tr>\n",
       "    <tr>\n",
       "      <th>17</th>\n",
       "      <td>0.0</td>\n",
       "      <td>1.0</td>\n",
       "    </tr>\n",
       "    <tr>\n",
       "      <th>18</th>\n",
       "      <td>0.2</td>\n",
       "      <td>0.8</td>\n",
       "    </tr>\n",
       "    <tr>\n",
       "      <th>19</th>\n",
       "      <td>0.0</td>\n",
       "      <td>1.0</td>\n",
       "    </tr>\n",
       "    <tr>\n",
       "      <th>20</th>\n",
       "      <td>0.8</td>\n",
       "      <td>0.2</td>\n",
       "    </tr>\n",
       "    <tr>\n",
       "      <th>21</th>\n",
       "      <td>0.8</td>\n",
       "      <td>0.2</td>\n",
       "    </tr>\n",
       "    <tr>\n",
       "      <th>22</th>\n",
       "      <td>1.0</td>\n",
       "      <td>0.0</td>\n",
       "    </tr>\n",
       "    <tr>\n",
       "      <th>23</th>\n",
       "      <td>1.0</td>\n",
       "      <td>0.0</td>\n",
       "    </tr>\n",
       "    <tr>\n",
       "      <th>24</th>\n",
       "      <td>0.2</td>\n",
       "      <td>0.8</td>\n",
       "    </tr>\n",
       "    <tr>\n",
       "      <th>25</th>\n",
       "      <td>0.8</td>\n",
       "      <td>0.2</td>\n",
       "    </tr>\n",
       "    <tr>\n",
       "      <th>26</th>\n",
       "      <td>0.0</td>\n",
       "      <td>1.0</td>\n",
       "    </tr>\n",
       "    <tr>\n",
       "      <th>27</th>\n",
       "      <td>0.8</td>\n",
       "      <td>0.2</td>\n",
       "    </tr>\n",
       "    <tr>\n",
       "      <th>28</th>\n",
       "      <td>0.4</td>\n",
       "      <td>0.6</td>\n",
       "    </tr>\n",
       "    <tr>\n",
       "      <th>29</th>\n",
       "      <td>0.0</td>\n",
       "      <td>1.0</td>\n",
       "    </tr>\n",
       "  </tbody>\n",
       "</table>\n",
       "</div>"
      ],
      "text/plain": [
       "      0    1\n",
       "0   0.8  0.2\n",
       "1   0.8  0.2\n",
       "2   0.8  0.2\n",
       "3   0.8  0.2\n",
       "4   0.2  0.8\n",
       "5   0.6  0.4\n",
       "6   0.0  1.0\n",
       "7   0.4  0.6\n",
       "8   0.2  0.8\n",
       "9   1.0  0.0\n",
       "10  0.2  0.8\n",
       "11  0.0  1.0\n",
       "12  0.8  0.2\n",
       "13  1.0  0.0\n",
       "14  0.6  0.4\n",
       "15  0.2  0.8\n",
       "16  1.0  0.0\n",
       "17  0.0  1.0\n",
       "18  0.2  0.8\n",
       "19  0.0  1.0\n",
       "20  0.8  0.2\n",
       "21  0.8  0.2\n",
       "22  1.0  0.0\n",
       "23  1.0  0.0\n",
       "24  0.2  0.8\n",
       "25  0.8  0.2\n",
       "26  0.0  1.0\n",
       "27  0.8  0.2\n",
       "28  0.4  0.6\n",
       "29  0.0  1.0"
      ]
     },
     "execution_count": 52,
     "metadata": {},
     "output_type": "execute_result"
    }
   ],
   "source": [
    "pd.DataFrame(y_pred_proba)"
   ]
  },
  {
   "cell_type": "code",
   "execution_count": 53,
   "id": "e67d9cec",
   "metadata": {},
   "outputs": [
    {
     "data": {
      "text/html": [
       "<div>\n",
       "<style scoped>\n",
       "    .dataframe tbody tr th:only-of-type {\n",
       "        vertical-align: middle;\n",
       "    }\n",
       "\n",
       "    .dataframe tbody tr th {\n",
       "        vertical-align: top;\n",
       "    }\n",
       "\n",
       "    .dataframe thead th {\n",
       "        text-align: right;\n",
       "    }\n",
       "</style>\n",
       "<table border=\"1\" class=\"dataframe\">\n",
       "  <thead>\n",
       "    <tr style=\"text-align: right;\">\n",
       "      <th></th>\n",
       "      <th>Actual</th>\n",
       "      <th>Pred</th>\n",
       "      <th>Proba_1</th>\n",
       "      <th>Proba_0</th>\n",
       "    </tr>\n",
       "  </thead>\n",
       "  <tbody>\n",
       "    <tr>\n",
       "      <th>16</th>\n",
       "      <td>1</td>\n",
       "      <td>1</td>\n",
       "      <td>1.0</td>\n",
       "      <td>0.0</td>\n",
       "    </tr>\n",
       "    <tr>\n",
       "      <th>4</th>\n",
       "      <td>1</td>\n",
       "      <td>0</td>\n",
       "      <td>0.2</td>\n",
       "      <td>0.8</td>\n",
       "    </tr>\n",
       "    <tr>\n",
       "      <th>39</th>\n",
       "      <td>1</td>\n",
       "      <td>1</td>\n",
       "      <td>1.0</td>\n",
       "      <td>0.0</td>\n",
       "    </tr>\n",
       "    <tr>\n",
       "      <th>166</th>\n",
       "      <td>0</td>\n",
       "      <td>0</td>\n",
       "      <td>0.0</td>\n",
       "      <td>1.0</td>\n",
       "    </tr>\n",
       "    <tr>\n",
       "      <th>136</th>\n",
       "      <td>1</td>\n",
       "      <td>1</td>\n",
       "      <td>0.8</td>\n",
       "      <td>0.2</td>\n",
       "    </tr>\n",
       "    <tr>\n",
       "      <th>149</th>\n",
       "      <td>1</td>\n",
       "      <td>1</td>\n",
       "      <td>0.8</td>\n",
       "      <td>0.2</td>\n",
       "    </tr>\n",
       "    <tr>\n",
       "      <th>13</th>\n",
       "      <td>1</td>\n",
       "      <td>1</td>\n",
       "      <td>0.8</td>\n",
       "      <td>0.2</td>\n",
       "    </tr>\n",
       "    <tr>\n",
       "      <th>81</th>\n",
       "      <td>1</td>\n",
       "      <td>1</td>\n",
       "      <td>1.0</td>\n",
       "      <td>0.0</td>\n",
       "    </tr>\n",
       "    <tr>\n",
       "      <th>167</th>\n",
       "      <td>0</td>\n",
       "      <td>0</td>\n",
       "      <td>0.2</td>\n",
       "      <td>0.8</td>\n",
       "    </tr>\n",
       "    <tr>\n",
       "      <th>240</th>\n",
       "      <td>0</td>\n",
       "      <td>0</td>\n",
       "      <td>0.2</td>\n",
       "      <td>0.8</td>\n",
       "    </tr>\n",
       "  </tbody>\n",
       "</table>\n",
       "</div>"
      ],
      "text/plain": [
       "     Actual  Pred  Proba_1  Proba_0\n",
       "16        1     1      1.0      0.0\n",
       "4         1     0      0.2      0.8\n",
       "39        1     1      1.0      0.0\n",
       "166       0     0      0.0      1.0\n",
       "136       1     1      0.8      0.2\n",
       "149       1     1      0.8      0.2\n",
       "13        1     1      0.8      0.2\n",
       "81        1     1      1.0      0.0\n",
       "167       0     0      0.2      0.8\n",
       "240       0     0      0.2      0.8"
      ]
     },
     "execution_count": 53,
     "metadata": {},
     "output_type": "execute_result"
    }
   ],
   "source": [
    "my_dict = {\"Actual\": y_test, \"Pred\":y_pred, \"Proba_1\":y_pred_proba[:,1], \"Proba_0\":y_pred_proba[:,0]}\n",
    "pd.DataFrame.from_dict(my_dict).sample(10)"
   ]
  },
  {
   "cell_type": "code",
   "execution_count": 54,
   "id": "a45a931f",
   "metadata": {},
   "outputs": [
    {
     "name": "stdout",
     "output_type": "stream",
     "text": [
      "[[13  2]\n",
      " [ 3 12]]\n",
      "              precision    recall  f1-score   support\n",
      "\n",
      "           0       0.81      0.87      0.84        15\n",
      "           1       0.86      0.80      0.83        15\n",
      "\n",
      "    accuracy                           0.83        30\n",
      "   macro avg       0.83      0.83      0.83        30\n",
      "weighted avg       0.83      0.83      0.83        30\n",
      "\n"
     ]
    }
   ],
   "source": [
    "print(confusion_matrix(y_test, y_pred))\n",
    "print(classification_report(y_test, y_pred))"
   ]
  },
  {
   "cell_type": "code",
   "execution_count": 55,
   "id": "8b8a7e42",
   "metadata": {},
   "outputs": [],
   "source": [
    "from sklearn.model_selection import GridSearchCV"
   ]
  },
  {
   "cell_type": "code",
   "execution_count": 56,
   "id": "c436fcb3",
   "metadata": {},
   "outputs": [],
   "source": [
    "k_values= range(1,30)\n",
    "param_grid = {\"n_neighbors\":k_values, \"p\": [1,2], \"weights\": ['uniform', \"distance\"]}\n",
    "knn_grid_model = GridSearchCV(knn_model, param_grid, cv=10, scoring= 'accuracy')"
   ]
  },
  {
   "cell_type": "code",
   "execution_count": 57,
   "id": "b33f32d3",
   "metadata": {},
   "outputs": [
    {
     "data": {
      "text/plain": [
       "{'n_neighbors': 3, 'p': 1, 'weights': 'uniform'}"
      ]
     },
     "execution_count": 57,
     "metadata": {},
     "output_type": "execute_result"
    }
   ],
   "source": [
    "knn_grid_model.fit(X_train_scaled, y_train)\n",
    "knn_grid_model.best_params_"
   ]
  },
  {
   "cell_type": "code",
   "execution_count": 58,
   "id": "8c963905",
   "metadata": {},
   "outputs": [
    {
     "name": "stdout",
     "output_type": "stream",
     "text": [
      "WITH K=3\n",
      "\n",
      "\n",
      "[[13  2]\n",
      " [ 3 12]]\n",
      "\n",
      "\n",
      "              precision    recall  f1-score   support\n",
      "\n",
      "           0       0.81      0.87      0.84        15\n",
      "           1       0.86      0.80      0.83        15\n",
      "\n",
      "    accuracy                           0.83        30\n",
      "   macro avg       0.83      0.83      0.83        30\n",
      "weighted avg       0.83      0.83      0.83        30\n",
      "\n"
     ]
    }
   ],
   "source": [
    "# K = 3\n",
    "knn = KNeighborsClassifier(n_neighbors=3, p =1)\n",
    "\n",
    "knn.fit(X_train_scaled,y_train)\n",
    "pred = knn.predict(X_test_scaled)\n",
    "\n",
    "print('WITH K=3')\n",
    "print('\\n')\n",
    "print(confusion_matrix(y_test, pred))\n",
    "print('\\n')\n",
    "print(classification_report(y_test, pred))"
   ]
  },
  {
   "cell_type": "markdown",
   "id": "tWSsL9psxaR6",
   "metadata": {
    "id": "tWSsL9psxaR6"
   },
   "source": [
    "# Implement SVM and Evaluate"
   ]
  },
  {
   "cell_type": "code",
   "execution_count": 59,
   "id": "d4f69871-a019-49ab-a082-9d5f6f7020c8",
   "metadata": {
    "id": "d4f69871-a019-49ab-a082-9d5f6f7020c8"
   },
   "outputs": [],
   "source": [
    "from sklearn.svm import SVC"
   ]
  },
  {
   "cell_type": "code",
   "execution_count": 62,
   "id": "0d491544",
   "metadata": {},
   "outputs": [],
   "source": [
    "svm = SVC()\n",
    "param_grid = {'C':[0.01,0.1,1,10,1000],\n",
    "              'kernel':['linear','rbf','sigmoid','poly'],\n",
    "              'gamma':[\"scale\", \"auto\"],\n",
    "              'degree':[1,2]}\n",
    "grid = GridSearchCV(svm,param_grid,verbose=3, refit=True)"
   ]
  },
  {
   "cell_type": "code",
   "execution_count": 63,
   "id": "6582e852",
   "metadata": {},
   "outputs": [
    {
     "name": "stdout",
     "output_type": "stream",
     "text": [
      "Fitting 5 folds for each of 80 candidates, totalling 400 fits\n",
      "[CV 1/5] END ...C=0.01, degree=1, gamma=scale, kernel=linear; total time=   0.0s\n",
      "[CV 2/5] END ...C=0.01, degree=1, gamma=scale, kernel=linear; total time=   0.0s\n",
      "[CV 3/5] END ...C=0.01, degree=1, gamma=scale, kernel=linear; total time=   0.0s\n",
      "[CV 4/5] END ...C=0.01, degree=1, gamma=scale, kernel=linear; total time=   0.0s\n",
      "[CV 5/5] END ...C=0.01, degree=1, gamma=scale, kernel=linear; total time=   0.0s\n",
      "[CV 1/5] END ......C=0.01, degree=1, gamma=scale, kernel=rbf; total time=   0.0s\n",
      "[CV 2/5] END ......C=0.01, degree=1, gamma=scale, kernel=rbf; total time=   0.0s\n",
      "[CV 3/5] END ......C=0.01, degree=1, gamma=scale, kernel=rbf; total time=   0.0s\n",
      "[CV 4/5] END ......C=0.01, degree=1, gamma=scale, kernel=rbf; total time=   0.0s\n",
      "[CV 5/5] END ......C=0.01, degree=1, gamma=scale, kernel=rbf; total time=   0.0s\n",
      "[CV 1/5] END ..C=0.01, degree=1, gamma=scale, kernel=sigmoid; total time=   0.0s\n",
      "[CV 2/5] END ..C=0.01, degree=1, gamma=scale, kernel=sigmoid; total time=   0.0s\n",
      "[CV 3/5] END ..C=0.01, degree=1, gamma=scale, kernel=sigmoid; total time=   0.0s\n",
      "[CV 4/5] END ..C=0.01, degree=1, gamma=scale, kernel=sigmoid; total time=   0.0s\n",
      "[CV 5/5] END ..C=0.01, degree=1, gamma=scale, kernel=sigmoid; total time=   0.0s\n",
      "[CV 1/5] END .....C=0.01, degree=1, gamma=scale, kernel=poly; total time=   0.0s\n",
      "[CV 2/5] END .....C=0.01, degree=1, gamma=scale, kernel=poly; total time=   0.0s\n",
      "[CV 3/5] END .....C=0.01, degree=1, gamma=scale, kernel=poly; total time=   0.0s\n",
      "[CV 4/5] END .....C=0.01, degree=1, gamma=scale, kernel=poly; total time=   0.0s\n",
      "[CV 5/5] END .....C=0.01, degree=1, gamma=scale, kernel=poly; total time=   0.0s\n",
      "[CV 1/5] END ....C=0.01, degree=1, gamma=auto, kernel=linear; total time=   0.0s\n",
      "[CV 2/5] END ....C=0.01, degree=1, gamma=auto, kernel=linear; total time=   0.0s\n",
      "[CV 3/5] END ....C=0.01, degree=1, gamma=auto, kernel=linear; total time=   0.0s\n",
      "[CV 4/5] END ....C=0.01, degree=1, gamma=auto, kernel=linear; total time=   0.0s\n",
      "[CV 5/5] END ....C=0.01, degree=1, gamma=auto, kernel=linear; total time=   0.0s\n",
      "[CV 1/5] END .......C=0.01, degree=1, gamma=auto, kernel=rbf; total time=   0.0s\n",
      "[CV 2/5] END .......C=0.01, degree=1, gamma=auto, kernel=rbf; total time=   0.0s\n",
      "[CV 3/5] END .......C=0.01, degree=1, gamma=auto, kernel=rbf; total time=   0.0s\n",
      "[CV 4/5] END .......C=0.01, degree=1, gamma=auto, kernel=rbf; total time=   0.0s\n",
      "[CV 5/5] END .......C=0.01, degree=1, gamma=auto, kernel=rbf; total time=   0.0s\n",
      "[CV 1/5] END ...C=0.01, degree=1, gamma=auto, kernel=sigmoid; total time=   0.0s\n",
      "[CV 2/5] END ...C=0.01, degree=1, gamma=auto, kernel=sigmoid; total time=   0.0s\n",
      "[CV 3/5] END ...C=0.01, degree=1, gamma=auto, kernel=sigmoid; total time=   0.0s\n",
      "[CV 4/5] END ...C=0.01, degree=1, gamma=auto, kernel=sigmoid; total time=   0.0s\n",
      "[CV 5/5] END ...C=0.01, degree=1, gamma=auto, kernel=sigmoid; total time=   0.0s\n",
      "[CV 1/5] END ......C=0.01, degree=1, gamma=auto, kernel=poly; total time=   0.0s\n",
      "[CV 2/5] END ......C=0.01, degree=1, gamma=auto, kernel=poly; total time=   0.0s\n",
      "[CV 3/5] END ......C=0.01, degree=1, gamma=auto, kernel=poly; total time=   0.0s\n",
      "[CV 4/5] END ......C=0.01, degree=1, gamma=auto, kernel=poly; total time=   0.0s\n",
      "[CV 5/5] END ......C=0.01, degree=1, gamma=auto, kernel=poly; total time=   0.0s\n",
      "[CV 1/5] END ...C=0.01, degree=2, gamma=scale, kernel=linear; total time=   0.0s\n",
      "[CV 2/5] END ...C=0.01, degree=2, gamma=scale, kernel=linear; total time=   0.0s\n",
      "[CV 3/5] END ...C=0.01, degree=2, gamma=scale, kernel=linear; total time=   0.0s\n",
      "[CV 4/5] END ...C=0.01, degree=2, gamma=scale, kernel=linear; total time=   0.0s\n",
      "[CV 5/5] END ...C=0.01, degree=2, gamma=scale, kernel=linear; total time=   0.0s\n",
      "[CV 1/5] END ......C=0.01, degree=2, gamma=scale, kernel=rbf; total time=   0.0s\n",
      "[CV 2/5] END ......C=0.01, degree=2, gamma=scale, kernel=rbf; total time=   0.0s\n",
      "[CV 3/5] END ......C=0.01, degree=2, gamma=scale, kernel=rbf; total time=   0.0s\n",
      "[CV 4/5] END ......C=0.01, degree=2, gamma=scale, kernel=rbf; total time=   0.0s\n",
      "[CV 5/5] END ......C=0.01, degree=2, gamma=scale, kernel=rbf; total time=   0.0s\n",
      "[CV 1/5] END ..C=0.01, degree=2, gamma=scale, kernel=sigmoid; total time=   0.0s\n",
      "[CV 2/5] END ..C=0.01, degree=2, gamma=scale, kernel=sigmoid; total time=   0.0s\n",
      "[CV 3/5] END ..C=0.01, degree=2, gamma=scale, kernel=sigmoid; total time=   0.0s\n",
      "[CV 4/5] END ..C=0.01, degree=2, gamma=scale, kernel=sigmoid; total time=   0.0s\n",
      "[CV 5/5] END ..C=0.01, degree=2, gamma=scale, kernel=sigmoid; total time=   0.0s\n",
      "[CV 1/5] END .....C=0.01, degree=2, gamma=scale, kernel=poly; total time=   0.0s\n",
      "[CV 2/5] END .....C=0.01, degree=2, gamma=scale, kernel=poly; total time=   0.0s\n",
      "[CV 3/5] END .....C=0.01, degree=2, gamma=scale, kernel=poly; total time=   0.0s\n",
      "[CV 4/5] END .....C=0.01, degree=2, gamma=scale, kernel=poly; total time=   0.0s\n",
      "[CV 5/5] END .....C=0.01, degree=2, gamma=scale, kernel=poly; total time=   0.0s\n",
      "[CV 1/5] END ....C=0.01, degree=2, gamma=auto, kernel=linear; total time=   0.0s\n",
      "[CV 2/5] END ....C=0.01, degree=2, gamma=auto, kernel=linear; total time=   0.0s\n",
      "[CV 3/5] END ....C=0.01, degree=2, gamma=auto, kernel=linear; total time=   0.0s\n",
      "[CV 4/5] END ....C=0.01, degree=2, gamma=auto, kernel=linear; total time=   0.0s\n",
      "[CV 5/5] END ....C=0.01, degree=2, gamma=auto, kernel=linear; total time=   0.0s\n",
      "[CV 1/5] END .......C=0.01, degree=2, gamma=auto, kernel=rbf; total time=   0.0s\n",
      "[CV 2/5] END .......C=0.01, degree=2, gamma=auto, kernel=rbf; total time=   0.0s\n",
      "[CV 3/5] END .......C=0.01, degree=2, gamma=auto, kernel=rbf; total time=   0.0s\n",
      "[CV 4/5] END .......C=0.01, degree=2, gamma=auto, kernel=rbf; total time=   0.0s\n",
      "[CV 5/5] END .......C=0.01, degree=2, gamma=auto, kernel=rbf; total time=   0.0s\n",
      "[CV 1/5] END ...C=0.01, degree=2, gamma=auto, kernel=sigmoid; total time=   0.0s\n",
      "[CV 2/5] END ...C=0.01, degree=2, gamma=auto, kernel=sigmoid; total time=   0.0s\n",
      "[CV 3/5] END ...C=0.01, degree=2, gamma=auto, kernel=sigmoid; total time=   0.0s\n",
      "[CV 4/5] END ...C=0.01, degree=2, gamma=auto, kernel=sigmoid; total time=   0.0s\n",
      "[CV 5/5] END ...C=0.01, degree=2, gamma=auto, kernel=sigmoid; total time=   0.0s\n",
      "[CV 1/5] END ......C=0.01, degree=2, gamma=auto, kernel=poly; total time=   0.0s\n",
      "[CV 2/5] END ......C=0.01, degree=2, gamma=auto, kernel=poly; total time=   0.0s\n",
      "[CV 3/5] END ......C=0.01, degree=2, gamma=auto, kernel=poly; total time=   0.0s\n",
      "[CV 4/5] END ......C=0.01, degree=2, gamma=auto, kernel=poly; total time=   0.0s\n",
      "[CV 5/5] END ......C=0.01, degree=2, gamma=auto, kernel=poly; total time=   0.0s\n",
      "[CV 1/5] END ....C=0.1, degree=1, gamma=scale, kernel=linear; total time=   0.0s\n",
      "[CV 2/5] END ....C=0.1, degree=1, gamma=scale, kernel=linear; total time=   0.0s\n",
      "[CV 3/5] END ....C=0.1, degree=1, gamma=scale, kernel=linear; total time=   0.0s\n",
      "[CV 4/5] END ....C=0.1, degree=1, gamma=scale, kernel=linear; total time=   0.0s\n",
      "[CV 5/5] END ....C=0.1, degree=1, gamma=scale, kernel=linear; total time=   0.0s\n",
      "[CV 1/5] END .......C=0.1, degree=1, gamma=scale, kernel=rbf; total time=   0.0s\n",
      "[CV 2/5] END .......C=0.1, degree=1, gamma=scale, kernel=rbf; total time=   0.0s\n",
      "[CV 3/5] END .......C=0.1, degree=1, gamma=scale, kernel=rbf; total time=   0.0s\n",
      "[CV 4/5] END .......C=0.1, degree=1, gamma=scale, kernel=rbf; total time=   0.0s\n",
      "[CV 5/5] END .......C=0.1, degree=1, gamma=scale, kernel=rbf; total time=   0.0s\n",
      "[CV 1/5] END ...C=0.1, degree=1, gamma=scale, kernel=sigmoid; total time=   0.0s\n",
      "[CV 2/5] END ...C=0.1, degree=1, gamma=scale, kernel=sigmoid; total time=   0.0s\n",
      "[CV 3/5] END ...C=0.1, degree=1, gamma=scale, kernel=sigmoid; total time=   0.0s\n",
      "[CV 4/5] END ...C=0.1, degree=1, gamma=scale, kernel=sigmoid; total time=   0.0s\n",
      "[CV 5/5] END ...C=0.1, degree=1, gamma=scale, kernel=sigmoid; total time=   0.0s\n",
      "[CV 1/5] END ......C=0.1, degree=1, gamma=scale, kernel=poly; total time=   0.0s\n",
      "[CV 2/5] END ......C=0.1, degree=1, gamma=scale, kernel=poly; total time=   0.0s\n",
      "[CV 3/5] END ......C=0.1, degree=1, gamma=scale, kernel=poly; total time=   0.0s\n",
      "[CV 4/5] END ......C=0.1, degree=1, gamma=scale, kernel=poly; total time=   0.0s\n",
      "[CV 5/5] END ......C=0.1, degree=1, gamma=scale, kernel=poly; total time=   0.0s\n",
      "[CV 1/5] END .....C=0.1, degree=1, gamma=auto, kernel=linear; total time=   0.0s\n",
      "[CV 2/5] END .....C=0.1, degree=1, gamma=auto, kernel=linear; total time=   0.0s\n",
      "[CV 3/5] END .....C=0.1, degree=1, gamma=auto, kernel=linear; total time=   0.0s\n",
      "[CV 4/5] END .....C=0.1, degree=1, gamma=auto, kernel=linear; total time=   0.0s\n",
      "[CV 5/5] END .....C=0.1, degree=1, gamma=auto, kernel=linear; total time=   0.0s\n",
      "[CV 1/5] END ........C=0.1, degree=1, gamma=auto, kernel=rbf; total time=   0.0s\n",
      "[CV 2/5] END ........C=0.1, degree=1, gamma=auto, kernel=rbf; total time=   0.0s\n",
      "[CV 3/5] END ........C=0.1, degree=1, gamma=auto, kernel=rbf; total time=   0.0s\n",
      "[CV 4/5] END ........C=0.1, degree=1, gamma=auto, kernel=rbf; total time=   0.0s\n",
      "[CV 5/5] END ........C=0.1, degree=1, gamma=auto, kernel=rbf; total time=   0.0s\n",
      "[CV 1/5] END ....C=0.1, degree=1, gamma=auto, kernel=sigmoid; total time=   0.0s\n",
      "[CV 2/5] END ....C=0.1, degree=1, gamma=auto, kernel=sigmoid; total time=   0.0s\n",
      "[CV 3/5] END ....C=0.1, degree=1, gamma=auto, kernel=sigmoid; total time=   0.0s\n",
      "[CV 4/5] END ....C=0.1, degree=1, gamma=auto, kernel=sigmoid; total time=   0.0s\n",
      "[CV 5/5] END ....C=0.1, degree=1, gamma=auto, kernel=sigmoid; total time=   0.0s\n",
      "[CV 1/5] END .......C=0.1, degree=1, gamma=auto, kernel=poly; total time=   0.0s\n",
      "[CV 2/5] END .......C=0.1, degree=1, gamma=auto, kernel=poly; total time=   0.0s\n",
      "[CV 3/5] END .......C=0.1, degree=1, gamma=auto, kernel=poly; total time=   0.0s\n",
      "[CV 4/5] END .......C=0.1, degree=1, gamma=auto, kernel=poly; total time=   0.0s\n",
      "[CV 5/5] END .......C=0.1, degree=1, gamma=auto, kernel=poly; total time=   0.0s\n",
      "[CV 1/5] END ....C=0.1, degree=2, gamma=scale, kernel=linear; total time=   0.0s\n",
      "[CV 2/5] END ....C=0.1, degree=2, gamma=scale, kernel=linear; total time=   0.0s\n",
      "[CV 3/5] END ....C=0.1, degree=2, gamma=scale, kernel=linear; total time=   0.0s\n",
      "[CV 4/5] END ....C=0.1, degree=2, gamma=scale, kernel=linear; total time=   0.0s\n",
      "[CV 5/5] END ....C=0.1, degree=2, gamma=scale, kernel=linear; total time=   0.0s\n",
      "[CV 1/5] END .......C=0.1, degree=2, gamma=scale, kernel=rbf; total time=   0.0s\n",
      "[CV 2/5] END .......C=0.1, degree=2, gamma=scale, kernel=rbf; total time=   0.0s\n",
      "[CV 3/5] END .......C=0.1, degree=2, gamma=scale, kernel=rbf; total time=   0.0s\n",
      "[CV 4/5] END .......C=0.1, degree=2, gamma=scale, kernel=rbf; total time=   0.0s\n",
      "[CV 5/5] END .......C=0.1, degree=2, gamma=scale, kernel=rbf; total time=   0.0s\n",
      "[CV 1/5] END ...C=0.1, degree=2, gamma=scale, kernel=sigmoid; total time=   0.0s\n",
      "[CV 2/5] END ...C=0.1, degree=2, gamma=scale, kernel=sigmoid; total time=   0.0s\n"
     ]
    },
    {
     "name": "stdout",
     "output_type": "stream",
     "text": [
      "[CV 3/5] END ...C=0.1, degree=2, gamma=scale, kernel=sigmoid; total time=   0.0s\n",
      "[CV 4/5] END ...C=0.1, degree=2, gamma=scale, kernel=sigmoid; total time=   0.0s\n",
      "[CV 5/5] END ...C=0.1, degree=2, gamma=scale, kernel=sigmoid; total time=   0.0s\n",
      "[CV 1/5] END ......C=0.1, degree=2, gamma=scale, kernel=poly; total time=   0.0s\n",
      "[CV 2/5] END ......C=0.1, degree=2, gamma=scale, kernel=poly; total time=   0.0s\n",
      "[CV 3/5] END ......C=0.1, degree=2, gamma=scale, kernel=poly; total time=   0.0s\n",
      "[CV 4/5] END ......C=0.1, degree=2, gamma=scale, kernel=poly; total time=   0.0s\n",
      "[CV 5/5] END ......C=0.1, degree=2, gamma=scale, kernel=poly; total time=   0.0s\n",
      "[CV 1/5] END .....C=0.1, degree=2, gamma=auto, kernel=linear; total time=   0.0s\n",
      "[CV 2/5] END .....C=0.1, degree=2, gamma=auto, kernel=linear; total time=   0.0s\n",
      "[CV 3/5] END .....C=0.1, degree=2, gamma=auto, kernel=linear; total time=   0.0s\n",
      "[CV 4/5] END .....C=0.1, degree=2, gamma=auto, kernel=linear; total time=   0.0s\n",
      "[CV 5/5] END .....C=0.1, degree=2, gamma=auto, kernel=linear; total time=   0.0s\n",
      "[CV 1/5] END ........C=0.1, degree=2, gamma=auto, kernel=rbf; total time=   0.0s\n",
      "[CV 2/5] END ........C=0.1, degree=2, gamma=auto, kernel=rbf; total time=   0.0s\n",
      "[CV 3/5] END ........C=0.1, degree=2, gamma=auto, kernel=rbf; total time=   0.0s\n",
      "[CV 4/5] END ........C=0.1, degree=2, gamma=auto, kernel=rbf; total time=   0.0s\n",
      "[CV 5/5] END ........C=0.1, degree=2, gamma=auto, kernel=rbf; total time=   0.0s\n",
      "[CV 1/5] END ....C=0.1, degree=2, gamma=auto, kernel=sigmoid; total time=   0.0s\n",
      "[CV 2/5] END ....C=0.1, degree=2, gamma=auto, kernel=sigmoid; total time=   0.0s\n",
      "[CV 3/5] END ....C=0.1, degree=2, gamma=auto, kernel=sigmoid; total time=   0.0s\n",
      "[CV 4/5] END ....C=0.1, degree=2, gamma=auto, kernel=sigmoid; total time=   0.0s\n",
      "[CV 5/5] END ....C=0.1, degree=2, gamma=auto, kernel=sigmoid; total time=   0.0s\n",
      "[CV 1/5] END .......C=0.1, degree=2, gamma=auto, kernel=poly; total time=   0.0s\n",
      "[CV 2/5] END .......C=0.1, degree=2, gamma=auto, kernel=poly; total time=   0.0s\n",
      "[CV 3/5] END .......C=0.1, degree=2, gamma=auto, kernel=poly; total time=   0.0s\n",
      "[CV 4/5] END .......C=0.1, degree=2, gamma=auto, kernel=poly; total time=   0.0s\n",
      "[CV 5/5] END .......C=0.1, degree=2, gamma=auto, kernel=poly; total time=   0.0s\n",
      "[CV 1/5] END ......C=1, degree=1, gamma=scale, kernel=linear; total time=   0.0s\n",
      "[CV 2/5] END ......C=1, degree=1, gamma=scale, kernel=linear; total time=   0.0s\n",
      "[CV 3/5] END ......C=1, degree=1, gamma=scale, kernel=linear; total time=   0.0s\n",
      "[CV 4/5] END ......C=1, degree=1, gamma=scale, kernel=linear; total time=   0.0s\n",
      "[CV 5/5] END ......C=1, degree=1, gamma=scale, kernel=linear; total time=   0.0s\n",
      "[CV 1/5] END .........C=1, degree=1, gamma=scale, kernel=rbf; total time=   0.0s\n",
      "[CV 2/5] END .........C=1, degree=1, gamma=scale, kernel=rbf; total time=   0.0s\n",
      "[CV 3/5] END .........C=1, degree=1, gamma=scale, kernel=rbf; total time=   0.0s\n",
      "[CV 4/5] END .........C=1, degree=1, gamma=scale, kernel=rbf; total time=   0.0s\n",
      "[CV 5/5] END .........C=1, degree=1, gamma=scale, kernel=rbf; total time=   0.0s\n",
      "[CV 1/5] END .....C=1, degree=1, gamma=scale, kernel=sigmoid; total time=   0.0s\n",
      "[CV 2/5] END .....C=1, degree=1, gamma=scale, kernel=sigmoid; total time=   0.0s\n",
      "[CV 3/5] END .....C=1, degree=1, gamma=scale, kernel=sigmoid; total time=   0.0s\n",
      "[CV 4/5] END .....C=1, degree=1, gamma=scale, kernel=sigmoid; total time=   0.0s\n",
      "[CV 5/5] END .....C=1, degree=1, gamma=scale, kernel=sigmoid; total time=   0.0s\n",
      "[CV 1/5] END ........C=1, degree=1, gamma=scale, kernel=poly; total time=   0.0s\n",
      "[CV 2/5] END ........C=1, degree=1, gamma=scale, kernel=poly; total time=   0.0s\n",
      "[CV 3/5] END ........C=1, degree=1, gamma=scale, kernel=poly; total time=   0.0s\n",
      "[CV 4/5] END ........C=1, degree=1, gamma=scale, kernel=poly; total time=   0.0s\n",
      "[CV 5/5] END ........C=1, degree=1, gamma=scale, kernel=poly; total time=   0.0s\n",
      "[CV 1/5] END .......C=1, degree=1, gamma=auto, kernel=linear; total time=   0.0s\n",
      "[CV 2/5] END .......C=1, degree=1, gamma=auto, kernel=linear; total time=   0.0s\n",
      "[CV 3/5] END .......C=1, degree=1, gamma=auto, kernel=linear; total time=   0.0s\n",
      "[CV 4/5] END .......C=1, degree=1, gamma=auto, kernel=linear; total time=   0.0s\n",
      "[CV 5/5] END .......C=1, degree=1, gamma=auto, kernel=linear; total time=   0.0s\n",
      "[CV 1/5] END ..........C=1, degree=1, gamma=auto, kernel=rbf; total time=   0.0s\n",
      "[CV 2/5] END ..........C=1, degree=1, gamma=auto, kernel=rbf; total time=   0.0s\n",
      "[CV 3/5] END ..........C=1, degree=1, gamma=auto, kernel=rbf; total time=   0.0s\n",
      "[CV 4/5] END ..........C=1, degree=1, gamma=auto, kernel=rbf; total time=   0.0s\n",
      "[CV 5/5] END ..........C=1, degree=1, gamma=auto, kernel=rbf; total time=   0.0s\n",
      "[CV 1/5] END ......C=1, degree=1, gamma=auto, kernel=sigmoid; total time=   0.0s\n",
      "[CV 2/5] END ......C=1, degree=1, gamma=auto, kernel=sigmoid; total time=   0.0s\n",
      "[CV 3/5] END ......C=1, degree=1, gamma=auto, kernel=sigmoid; total time=   0.0s\n",
      "[CV 4/5] END ......C=1, degree=1, gamma=auto, kernel=sigmoid; total time=   0.0s\n",
      "[CV 5/5] END ......C=1, degree=1, gamma=auto, kernel=sigmoid; total time=   0.0s\n",
      "[CV 1/5] END .........C=1, degree=1, gamma=auto, kernel=poly; total time=   0.0s\n",
      "[CV 2/5] END .........C=1, degree=1, gamma=auto, kernel=poly; total time=   0.0s\n",
      "[CV 3/5] END .........C=1, degree=1, gamma=auto, kernel=poly; total time=   0.0s\n",
      "[CV 4/5] END .........C=1, degree=1, gamma=auto, kernel=poly; total time=   0.0s\n",
      "[CV 5/5] END .........C=1, degree=1, gamma=auto, kernel=poly; total time=   0.0s\n",
      "[CV 1/5] END ......C=1, degree=2, gamma=scale, kernel=linear; total time=   0.0s\n",
      "[CV 2/5] END ......C=1, degree=2, gamma=scale, kernel=linear; total time=   0.0s\n",
      "[CV 3/5] END ......C=1, degree=2, gamma=scale, kernel=linear; total time=   0.0s\n",
      "[CV 4/5] END ......C=1, degree=2, gamma=scale, kernel=linear; total time=   0.0s\n",
      "[CV 5/5] END ......C=1, degree=2, gamma=scale, kernel=linear; total time=   0.0s\n",
      "[CV 1/5] END .........C=1, degree=2, gamma=scale, kernel=rbf; total time=   0.0s\n",
      "[CV 2/5] END .........C=1, degree=2, gamma=scale, kernel=rbf; total time=   0.0s\n",
      "[CV 3/5] END .........C=1, degree=2, gamma=scale, kernel=rbf; total time=   0.0s\n",
      "[CV 4/5] END .........C=1, degree=2, gamma=scale, kernel=rbf; total time=   0.0s\n",
      "[CV 5/5] END .........C=1, degree=2, gamma=scale, kernel=rbf; total time=   0.0s\n",
      "[CV 1/5] END .....C=1, degree=2, gamma=scale, kernel=sigmoid; total time=   0.0s\n",
      "[CV 2/5] END .....C=1, degree=2, gamma=scale, kernel=sigmoid; total time=   0.0s\n",
      "[CV 3/5] END .....C=1, degree=2, gamma=scale, kernel=sigmoid; total time=   0.0s\n",
      "[CV 4/5] END .....C=1, degree=2, gamma=scale, kernel=sigmoid; total time=   0.0s\n",
      "[CV 5/5] END .....C=1, degree=2, gamma=scale, kernel=sigmoid; total time=   0.0s\n",
      "[CV 1/5] END ........C=1, degree=2, gamma=scale, kernel=poly; total time=   0.0s\n",
      "[CV 2/5] END ........C=1, degree=2, gamma=scale, kernel=poly; total time=   0.0s\n",
      "[CV 3/5] END ........C=1, degree=2, gamma=scale, kernel=poly; total time=   0.0s\n",
      "[CV 4/5] END ........C=1, degree=2, gamma=scale, kernel=poly; total time=   0.0s\n",
      "[CV 5/5] END ........C=1, degree=2, gamma=scale, kernel=poly; total time=   0.0s\n",
      "[CV 1/5] END .......C=1, degree=2, gamma=auto, kernel=linear; total time=   0.0s\n",
      "[CV 2/5] END .......C=1, degree=2, gamma=auto, kernel=linear; total time=   0.0s\n",
      "[CV 3/5] END .......C=1, degree=2, gamma=auto, kernel=linear; total time=   0.0s\n",
      "[CV 4/5] END .......C=1, degree=2, gamma=auto, kernel=linear; total time=   0.0s\n",
      "[CV 5/5] END .......C=1, degree=2, gamma=auto, kernel=linear; total time=   0.0s\n",
      "[CV 1/5] END ..........C=1, degree=2, gamma=auto, kernel=rbf; total time=   0.0s\n",
      "[CV 2/5] END ..........C=1, degree=2, gamma=auto, kernel=rbf; total time=   0.0s\n",
      "[CV 3/5] END ..........C=1, degree=2, gamma=auto, kernel=rbf; total time=   0.0s\n",
      "[CV 4/5] END ..........C=1, degree=2, gamma=auto, kernel=rbf; total time=   0.0s\n",
      "[CV 5/5] END ..........C=1, degree=2, gamma=auto, kernel=rbf; total time=   0.0s\n",
      "[CV 1/5] END ......C=1, degree=2, gamma=auto, kernel=sigmoid; total time=   0.0s\n",
      "[CV 2/5] END ......C=1, degree=2, gamma=auto, kernel=sigmoid; total time=   0.0s\n",
      "[CV 3/5] END ......C=1, degree=2, gamma=auto, kernel=sigmoid; total time=   0.0s\n",
      "[CV 4/5] END ......C=1, degree=2, gamma=auto, kernel=sigmoid; total time=   0.0s\n",
      "[CV 5/5] END ......C=1, degree=2, gamma=auto, kernel=sigmoid; total time=   0.0s\n",
      "[CV 1/5] END .........C=1, degree=2, gamma=auto, kernel=poly; total time=   0.0s\n",
      "[CV 2/5] END .........C=1, degree=2, gamma=auto, kernel=poly; total time=   0.0s\n",
      "[CV 3/5] END .........C=1, degree=2, gamma=auto, kernel=poly; total time=   0.0s\n",
      "[CV 4/5] END .........C=1, degree=2, gamma=auto, kernel=poly; total time=   0.0s\n",
      "[CV 5/5] END .........C=1, degree=2, gamma=auto, kernel=poly; total time=   0.0s\n",
      "[CV 1/5] END .....C=10, degree=1, gamma=scale, kernel=linear; total time=   0.0s\n",
      "[CV 2/5] END .....C=10, degree=1, gamma=scale, kernel=linear; total time=   0.0s\n",
      "[CV 3/5] END .....C=10, degree=1, gamma=scale, kernel=linear; total time=   0.0s\n",
      "[CV 4/5] END .....C=10, degree=1, gamma=scale, kernel=linear; total time=   0.0s\n",
      "[CV 5/5] END .....C=10, degree=1, gamma=scale, kernel=linear; total time=   0.0s\n",
      "[CV 1/5] END ........C=10, degree=1, gamma=scale, kernel=rbf; total time=   0.0s\n",
      "[CV 2/5] END ........C=10, degree=1, gamma=scale, kernel=rbf; total time=   0.0s\n",
      "[CV 3/5] END ........C=10, degree=1, gamma=scale, kernel=rbf; total time=   0.0s\n",
      "[CV 4/5] END ........C=10, degree=1, gamma=scale, kernel=rbf; total time=   0.0s\n",
      "[CV 5/5] END ........C=10, degree=1, gamma=scale, kernel=rbf; total time=   0.0s\n",
      "[CV 1/5] END ....C=10, degree=1, gamma=scale, kernel=sigmoid; total time=   0.0s\n",
      "[CV 2/5] END ....C=10, degree=1, gamma=scale, kernel=sigmoid; total time=   0.0s\n",
      "[CV 3/5] END ....C=10, degree=1, gamma=scale, kernel=sigmoid; total time=   0.0s\n",
      "[CV 4/5] END ....C=10, degree=1, gamma=scale, kernel=sigmoid; total time=   0.0s\n",
      "[CV 5/5] END ....C=10, degree=1, gamma=scale, kernel=sigmoid; total time=   0.0s\n",
      "[CV 1/5] END .......C=10, degree=1, gamma=scale, kernel=poly; total time=   0.0s\n",
      "[CV 2/5] END .......C=10, degree=1, gamma=scale, kernel=poly; total time=   0.0s\n",
      "[CV 3/5] END .......C=10, degree=1, gamma=scale, kernel=poly; total time=   0.0s\n",
      "[CV 4/5] END .......C=10, degree=1, gamma=scale, kernel=poly; total time=   0.0s\n",
      "[CV 5/5] END .......C=10, degree=1, gamma=scale, kernel=poly; total time=   0.0s\n",
      "[CV 1/5] END ......C=10, degree=1, gamma=auto, kernel=linear; total time=   0.0s\n",
      "[CV 2/5] END ......C=10, degree=1, gamma=auto, kernel=linear; total time=   0.0s\n",
      "[CV 3/5] END ......C=10, degree=1, gamma=auto, kernel=linear; total time=   0.0s\n",
      "[CV 4/5] END ......C=10, degree=1, gamma=auto, kernel=linear; total time=   0.0s\n",
      "[CV 5/5] END ......C=10, degree=1, gamma=auto, kernel=linear; total time=   0.0s\n",
      "[CV 1/5] END .........C=10, degree=1, gamma=auto, kernel=rbf; total time=   0.0s\n",
      "[CV 2/5] END .........C=10, degree=1, gamma=auto, kernel=rbf; total time=   0.0s\n",
      "[CV 3/5] END .........C=10, degree=1, gamma=auto, kernel=rbf; total time=   0.0s\n",
      "[CV 4/5] END .........C=10, degree=1, gamma=auto, kernel=rbf; total time=   0.0s\n",
      "[CV 5/5] END .........C=10, degree=1, gamma=auto, kernel=rbf; total time=   0.0s\n"
     ]
    },
    {
     "name": "stdout",
     "output_type": "stream",
     "text": [
      "[CV 1/5] END .....C=10, degree=1, gamma=auto, kernel=sigmoid; total time=   0.0s\n",
      "[CV 2/5] END .....C=10, degree=1, gamma=auto, kernel=sigmoid; total time=   0.0s\n",
      "[CV 3/5] END .....C=10, degree=1, gamma=auto, kernel=sigmoid; total time=   0.0s\n",
      "[CV 4/5] END .....C=10, degree=1, gamma=auto, kernel=sigmoid; total time=   0.0s\n",
      "[CV 5/5] END .....C=10, degree=1, gamma=auto, kernel=sigmoid; total time=   0.0s\n",
      "[CV 1/5] END ........C=10, degree=1, gamma=auto, kernel=poly; total time=   0.0s\n",
      "[CV 2/5] END ........C=10, degree=1, gamma=auto, kernel=poly; total time=   0.0s\n",
      "[CV 3/5] END ........C=10, degree=1, gamma=auto, kernel=poly; total time=   0.0s\n",
      "[CV 4/5] END ........C=10, degree=1, gamma=auto, kernel=poly; total time=   0.0s\n",
      "[CV 5/5] END ........C=10, degree=1, gamma=auto, kernel=poly; total time=   0.0s\n",
      "[CV 1/5] END .....C=10, degree=2, gamma=scale, kernel=linear; total time=   0.0s\n",
      "[CV 2/5] END .....C=10, degree=2, gamma=scale, kernel=linear; total time=   0.0s\n",
      "[CV 3/5] END .....C=10, degree=2, gamma=scale, kernel=linear; total time=   0.0s\n",
      "[CV 4/5] END .....C=10, degree=2, gamma=scale, kernel=linear; total time=   0.0s\n",
      "[CV 5/5] END .....C=10, degree=2, gamma=scale, kernel=linear; total time=   0.0s\n",
      "[CV 1/5] END ........C=10, degree=2, gamma=scale, kernel=rbf; total time=   0.0s\n",
      "[CV 2/5] END ........C=10, degree=2, gamma=scale, kernel=rbf; total time=   0.0s\n",
      "[CV 3/5] END ........C=10, degree=2, gamma=scale, kernel=rbf; total time=   0.0s\n",
      "[CV 4/5] END ........C=10, degree=2, gamma=scale, kernel=rbf; total time=   0.0s\n",
      "[CV 5/5] END ........C=10, degree=2, gamma=scale, kernel=rbf; total time=   0.0s\n",
      "[CV 1/5] END ....C=10, degree=2, gamma=scale, kernel=sigmoid; total time=   0.0s\n",
      "[CV 2/5] END ....C=10, degree=2, gamma=scale, kernel=sigmoid; total time=   0.0s\n",
      "[CV 3/5] END ....C=10, degree=2, gamma=scale, kernel=sigmoid; total time=   0.0s\n",
      "[CV 4/5] END ....C=10, degree=2, gamma=scale, kernel=sigmoid; total time=   0.0s\n",
      "[CV 5/5] END ....C=10, degree=2, gamma=scale, kernel=sigmoid; total time=   0.0s\n",
      "[CV 1/5] END .......C=10, degree=2, gamma=scale, kernel=poly; total time=   0.0s\n",
      "[CV 2/5] END .......C=10, degree=2, gamma=scale, kernel=poly; total time=   0.0s\n",
      "[CV 3/5] END .......C=10, degree=2, gamma=scale, kernel=poly; total time=   0.0s\n",
      "[CV 4/5] END .......C=10, degree=2, gamma=scale, kernel=poly; total time=   0.0s\n",
      "[CV 5/5] END .......C=10, degree=2, gamma=scale, kernel=poly; total time=   0.0s\n",
      "[CV 1/5] END ......C=10, degree=2, gamma=auto, kernel=linear; total time=   0.0s\n",
      "[CV 2/5] END ......C=10, degree=2, gamma=auto, kernel=linear; total time=   0.0s\n",
      "[CV 3/5] END ......C=10, degree=2, gamma=auto, kernel=linear; total time=   0.0s\n",
      "[CV 4/5] END ......C=10, degree=2, gamma=auto, kernel=linear; total time=   0.0s\n",
      "[CV 5/5] END ......C=10, degree=2, gamma=auto, kernel=linear; total time=   0.0s\n",
      "[CV 1/5] END .........C=10, degree=2, gamma=auto, kernel=rbf; total time=   0.0s\n",
      "[CV 2/5] END .........C=10, degree=2, gamma=auto, kernel=rbf; total time=   0.0s\n",
      "[CV 3/5] END .........C=10, degree=2, gamma=auto, kernel=rbf; total time=   0.0s\n",
      "[CV 4/5] END .........C=10, degree=2, gamma=auto, kernel=rbf; total time=   0.0s\n",
      "[CV 5/5] END .........C=10, degree=2, gamma=auto, kernel=rbf; total time=   0.0s\n",
      "[CV 1/5] END .....C=10, degree=2, gamma=auto, kernel=sigmoid; total time=   0.0s\n",
      "[CV 2/5] END .....C=10, degree=2, gamma=auto, kernel=sigmoid; total time=   0.0s\n",
      "[CV 3/5] END .....C=10, degree=2, gamma=auto, kernel=sigmoid; total time=   0.0s\n",
      "[CV 4/5] END .....C=10, degree=2, gamma=auto, kernel=sigmoid; total time=   0.0s\n",
      "[CV 5/5] END .....C=10, degree=2, gamma=auto, kernel=sigmoid; total time=   0.0s\n",
      "[CV 1/5] END ........C=10, degree=2, gamma=auto, kernel=poly; total time=   0.0s\n",
      "[CV 2/5] END ........C=10, degree=2, gamma=auto, kernel=poly; total time=   0.0s\n",
      "[CV 3/5] END ........C=10, degree=2, gamma=auto, kernel=poly; total time=   0.0s\n",
      "[CV 4/5] END ........C=10, degree=2, gamma=auto, kernel=poly; total time=   0.0s\n",
      "[CV 5/5] END ........C=10, degree=2, gamma=auto, kernel=poly; total time=   0.0s\n",
      "[CV 1/5] END ...C=1000, degree=1, gamma=scale, kernel=linear; total time=   0.0s\n",
      "[CV 2/5] END ...C=1000, degree=1, gamma=scale, kernel=linear; total time=   0.0s\n",
      "[CV 3/5] END ...C=1000, degree=1, gamma=scale, kernel=linear; total time=   0.0s\n",
      "[CV 4/5] END ...C=1000, degree=1, gamma=scale, kernel=linear; total time=   0.1s\n",
      "[CV 5/5] END ...C=1000, degree=1, gamma=scale, kernel=linear; total time=   0.0s\n",
      "[CV 1/5] END ......C=1000, degree=1, gamma=scale, kernel=rbf; total time=   0.0s\n",
      "[CV 2/5] END ......C=1000, degree=1, gamma=scale, kernel=rbf; total time=   0.0s\n",
      "[CV 3/5] END ......C=1000, degree=1, gamma=scale, kernel=rbf; total time=   0.0s\n",
      "[CV 4/5] END ......C=1000, degree=1, gamma=scale, kernel=rbf; total time=   0.0s\n",
      "[CV 5/5] END ......C=1000, degree=1, gamma=scale, kernel=rbf; total time=   0.0s\n",
      "[CV 1/5] END ..C=1000, degree=1, gamma=scale, kernel=sigmoid; total time=   0.0s\n",
      "[CV 2/5] END ..C=1000, degree=1, gamma=scale, kernel=sigmoid; total time=   0.0s\n",
      "[CV 3/5] END ..C=1000, degree=1, gamma=scale, kernel=sigmoid; total time=   0.0s\n",
      "[CV 4/5] END ..C=1000, degree=1, gamma=scale, kernel=sigmoid; total time=   0.0s\n",
      "[CV 5/5] END ..C=1000, degree=1, gamma=scale, kernel=sigmoid; total time=   0.0s\n",
      "[CV 1/5] END .....C=1000, degree=1, gamma=scale, kernel=poly; total time=   0.0s\n",
      "[CV 2/5] END .....C=1000, degree=1, gamma=scale, kernel=poly; total time=   0.0s\n",
      "[CV 3/5] END .....C=1000, degree=1, gamma=scale, kernel=poly; total time=   0.0s\n",
      "[CV 4/5] END .....C=1000, degree=1, gamma=scale, kernel=poly; total time=   0.0s\n",
      "[CV 5/5] END .....C=1000, degree=1, gamma=scale, kernel=poly; total time=   0.0s\n",
      "[CV 1/5] END ....C=1000, degree=1, gamma=auto, kernel=linear; total time=   0.0s\n",
      "[CV 2/5] END ....C=1000, degree=1, gamma=auto, kernel=linear; total time=   0.0s\n",
      "[CV 3/5] END ....C=1000, degree=1, gamma=auto, kernel=linear; total time=   0.0s\n",
      "[CV 4/5] END ....C=1000, degree=1, gamma=auto, kernel=linear; total time=   0.1s\n",
      "[CV 5/5] END ....C=1000, degree=1, gamma=auto, kernel=linear; total time=   0.0s\n",
      "[CV 1/5] END .......C=1000, degree=1, gamma=auto, kernel=rbf; total time=   0.0s\n",
      "[CV 2/5] END .......C=1000, degree=1, gamma=auto, kernel=rbf; total time=   0.0s\n",
      "[CV 3/5] END .......C=1000, degree=1, gamma=auto, kernel=rbf; total time=   0.0s\n",
      "[CV 4/5] END .......C=1000, degree=1, gamma=auto, kernel=rbf; total time=   0.0s\n",
      "[CV 5/5] END .......C=1000, degree=1, gamma=auto, kernel=rbf; total time=   0.0s\n",
      "[CV 1/5] END ...C=1000, degree=1, gamma=auto, kernel=sigmoid; total time=   0.0s\n",
      "[CV 2/5] END ...C=1000, degree=1, gamma=auto, kernel=sigmoid; total time=   0.0s\n",
      "[CV 3/5] END ...C=1000, degree=1, gamma=auto, kernel=sigmoid; total time=   0.0s\n",
      "[CV 4/5] END ...C=1000, degree=1, gamma=auto, kernel=sigmoid; total time=   0.0s\n",
      "[CV 5/5] END ...C=1000, degree=1, gamma=auto, kernel=sigmoid; total time=   0.0s\n",
      "[CV 1/5] END ......C=1000, degree=1, gamma=auto, kernel=poly; total time=   0.0s\n",
      "[CV 2/5] END ......C=1000, degree=1, gamma=auto, kernel=poly; total time=   0.0s\n",
      "[CV 3/5] END ......C=1000, degree=1, gamma=auto, kernel=poly; total time=   0.0s\n",
      "[CV 4/5] END ......C=1000, degree=1, gamma=auto, kernel=poly; total time=   0.0s\n",
      "[CV 5/5] END ......C=1000, degree=1, gamma=auto, kernel=poly; total time=   0.0s\n",
      "[CV 1/5] END ...C=1000, degree=2, gamma=scale, kernel=linear; total time=   0.0s\n",
      "[CV 2/5] END ...C=1000, degree=2, gamma=scale, kernel=linear; total time=   0.0s\n",
      "[CV 3/5] END ...C=1000, degree=2, gamma=scale, kernel=linear; total time=   0.0s\n",
      "[CV 4/5] END ...C=1000, degree=2, gamma=scale, kernel=linear; total time=   0.1s\n",
      "[CV 5/5] END ...C=1000, degree=2, gamma=scale, kernel=linear; total time=   0.0s\n",
      "[CV 1/5] END ......C=1000, degree=2, gamma=scale, kernel=rbf; total time=   0.0s\n",
      "[CV 2/5] END ......C=1000, degree=2, gamma=scale, kernel=rbf; total time=   0.0s\n",
      "[CV 3/5] END ......C=1000, degree=2, gamma=scale, kernel=rbf; total time=   0.0s\n",
      "[CV 4/5] END ......C=1000, degree=2, gamma=scale, kernel=rbf; total time=   0.0s\n",
      "[CV 5/5] END ......C=1000, degree=2, gamma=scale, kernel=rbf; total time=   0.0s\n",
      "[CV 1/5] END ..C=1000, degree=2, gamma=scale, kernel=sigmoid; total time=   0.0s\n",
      "[CV 2/5] END ..C=1000, degree=2, gamma=scale, kernel=sigmoid; total time=   0.0s\n",
      "[CV 3/5] END ..C=1000, degree=2, gamma=scale, kernel=sigmoid; total time=   0.0s\n",
      "[CV 4/5] END ..C=1000, degree=2, gamma=scale, kernel=sigmoid; total time=   0.0s\n",
      "[CV 5/5] END ..C=1000, degree=2, gamma=scale, kernel=sigmoid; total time=   0.0s\n",
      "[CV 1/5] END .....C=1000, degree=2, gamma=scale, kernel=poly; total time=   0.0s\n",
      "[CV 2/5] END .....C=1000, degree=2, gamma=scale, kernel=poly; total time=   0.0s\n",
      "[CV 3/5] END .....C=1000, degree=2, gamma=scale, kernel=poly; total time=   0.0s\n"
     ]
    },
    {
     "name": "stdout",
     "output_type": "stream",
     "text": [
      "[CV 4/5] END .....C=1000, degree=2, gamma=scale, kernel=poly; total time=   0.0s\n",
      "[CV 5/5] END .....C=1000, degree=2, gamma=scale, kernel=poly; total time=   0.0s\n",
      "[CV 1/5] END ....C=1000, degree=2, gamma=auto, kernel=linear; total time=   0.0s\n",
      "[CV 2/5] END ....C=1000, degree=2, gamma=auto, kernel=linear; total time=   0.0s\n",
      "[CV 3/5] END ....C=1000, degree=2, gamma=auto, kernel=linear; total time=   0.0s\n",
      "[CV 4/5] END ....C=1000, degree=2, gamma=auto, kernel=linear; total time=   0.1s\n",
      "[CV 5/5] END ....C=1000, degree=2, gamma=auto, kernel=linear; total time=   0.0s\n",
      "[CV 1/5] END .......C=1000, degree=2, gamma=auto, kernel=rbf; total time=   0.0s\n",
      "[CV 2/5] END .......C=1000, degree=2, gamma=auto, kernel=rbf; total time=   0.0s\n",
      "[CV 3/5] END .......C=1000, degree=2, gamma=auto, kernel=rbf; total time=   0.0s\n",
      "[CV 4/5] END .......C=1000, degree=2, gamma=auto, kernel=rbf; total time=   0.0s\n",
      "[CV 5/5] END .......C=1000, degree=2, gamma=auto, kernel=rbf; total time=   0.0s\n",
      "[CV 1/5] END ...C=1000, degree=2, gamma=auto, kernel=sigmoid; total time=   0.0s\n",
      "[CV 2/5] END ...C=1000, degree=2, gamma=auto, kernel=sigmoid; total time=   0.0s\n",
      "[CV 3/5] END ...C=1000, degree=2, gamma=auto, kernel=sigmoid; total time=   0.0s\n",
      "[CV 4/5] END ...C=1000, degree=2, gamma=auto, kernel=sigmoid; total time=   0.0s\n",
      "[CV 5/5] END ...C=1000, degree=2, gamma=auto, kernel=sigmoid; total time=   0.0s\n",
      "[CV 1/5] END ......C=1000, degree=2, gamma=auto, kernel=poly; total time=   0.0s\n",
      "[CV 2/5] END ......C=1000, degree=2, gamma=auto, kernel=poly; total time=   0.0s\n",
      "[CV 3/5] END ......C=1000, degree=2, gamma=auto, kernel=poly; total time=   0.0s\n",
      "[CV 4/5] END ......C=1000, degree=2, gamma=auto, kernel=poly; total time=   0.0s\n",
      "[CV 5/5] END ......C=1000, degree=2, gamma=auto, kernel=poly; total time=   0.0s\n"
     ]
    },
    {
     "data": {
      "text/plain": [
       "GridSearchCV(estimator=SVC(),\n",
       "             param_grid={'C': [0.01, 0.1, 1, 10, 1000], 'degree': [1, 2],\n",
       "                         'gamma': ['scale', 'auto'],\n",
       "                         'kernel': ['linear', 'rbf', 'sigmoid', 'poly']},\n",
       "             verbose=3)"
      ]
     },
     "execution_count": 63,
     "metadata": {},
     "output_type": "execute_result"
    }
   ],
   "source": [
    "grid.fit(X_train_scaled, y_train)"
   ]
  },
  {
   "cell_type": "code",
   "execution_count": 65,
   "id": "dc305f22",
   "metadata": {},
   "outputs": [
    {
     "data": {
      "text/plain": [
       "{'C': 1000, 'degree': 1, 'gamma': 'scale', 'kernel': 'linear'}"
      ]
     },
     "execution_count": 65,
     "metadata": {},
     "output_type": "execute_result"
    }
   ],
   "source": [
    "grid.best_params_"
   ]
  },
  {
   "cell_type": "code",
   "execution_count": 66,
   "id": "175d7167",
   "metadata": {},
   "outputs": [
    {
     "data": {
      "text/plain": [
       "SVC(C=1000, degree=1, kernel='linear')"
      ]
     },
     "execution_count": 66,
     "metadata": {},
     "output_type": "execute_result"
    }
   ],
   "source": [
    "grid.best_estimator_"
   ]
  },
  {
   "cell_type": "code",
   "execution_count": 67,
   "id": "0131d768",
   "metadata": {},
   "outputs": [
    {
     "name": "stdout",
     "output_type": "stream",
     "text": [
      "[[12  3]\n",
      " [ 0 15]]\n",
      "              precision    recall  f1-score   support\n",
      "\n",
      "           0       1.00      0.80      0.89        15\n",
      "           1       0.83      1.00      0.91        15\n",
      "\n",
      "    accuracy                           0.90        30\n",
      "   macro avg       0.92      0.90      0.90        30\n",
      "weighted avg       0.92      0.90      0.90        30\n",
      "\n"
     ]
    }
   ],
   "source": [
    "y_pred = grid.predict(X_test_scaled)\n",
    "print(confusion_matrix(y_test, y_pred))\n",
    "print(classification_report(y_test, y_pred))"
   ]
  },
  {
   "cell_type": "markdown",
   "id": "8Hfumh_PyEoh",
   "metadata": {
    "id": "8Hfumh_PyEoh"
   },
   "source": [
    "# Visually compare models based on your chosen metric"
   ]
  },
  {
   "cell_type": "code",
   "execution_count": null,
   "id": "Rm-5gpKgycqD",
   "metadata": {
    "id": "Rm-5gpKgycqD"
   },
   "outputs": [],
   "source": []
  },
  {
   "cell_type": "markdown",
   "id": "3oDKxZRqx0Nw",
   "metadata": {
    "id": "3oDKxZRqx0Nw"
   },
   "source": [
    "# Chose best model and make a random prediction "
   ]
  },
  {
   "cell_type": "code",
   "execution_count": null,
   "id": "pBjxBp8VxzhE",
   "metadata": {
    "id": "pBjxBp8VxzhE"
   },
   "outputs": [],
   "source": []
  }
 ],
 "metadata": {
  "colab": {
   "collapsed_sections": [],
   "name": "Heart_Stroke_Prediction_lab.ipynb",
   "provenance": []
  },
  "kernelspec": {
   "display_name": "Python 3 (ipykernel)",
   "language": "python",
   "name": "python3"
  },
  "language_info": {
   "codemirror_mode": {
    "name": "ipython",
    "version": 3
   },
   "file_extension": ".py",
   "mimetype": "text/x-python",
   "name": "python",
   "nbconvert_exporter": "python",
   "pygments_lexer": "ipython3",
   "version": "3.8.8"
  }
 },
 "nbformat": 4,
 "nbformat_minor": 5
}
